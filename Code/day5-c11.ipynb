{
 "cells": [
  {
   "cell_type": "code",
   "execution_count": 4,
   "metadata": {},
   "outputs": [
    {
     "name": "stdout",
     "output_type": "stream",
     "text": [
      "[[0.86173905 0.78949908 0.90074774 0.21023779 0.90753385 0.37766037]\n",
      " [0.83612181 0.07065745 0.20458992 0.04967077 0.69893116 0.12720572]\n",
      " [0.78396055 0.95629857 0.3720273  0.81808391 0.44137928 0.13169722]\n",
      " [0.83788495 0.7698047  0.19280218 0.2498486  0.70863364 0.76165279]]\n",
      "shape: (4, 6), size: 24, ndim: 2, datatype: float64\n"
     ]
    }
   ],
   "source": [
    "import numpy as np\n",
    "#numpy array: 连续存储，单一数据类型\n",
    "#build numpy array and get its attribute: ndim, dtype\n",
    "array1 = np.random.random((4,6))\n",
    "print(array1)\n",
    "print(\"shape: {}, size: {}, ndim: {}, datatype: {}\".format(array1.shape, array1.size, array1.ndim, array1.dtype))\n"
   ]
  },
  {
   "cell_type": "code",
   "execution_count": 5,
   "metadata": {},
   "outputs": [
    {
     "name": "stdout",
     "output_type": "stream",
     "text": [
      "[[0.86173905 0.78949908 0.90074774 0.21023779 0.90753385 0.37766037\n",
      "  0.83612181 0.07065745]\n",
      " [0.20458992 0.04967077 0.69893116 0.12720572 0.78396055 0.95629857\n",
      "  0.3720273  0.81808391]\n",
      " [0.44137928 0.13169722 0.83788495 0.7698047  0.19280218 0.2498486\n",
      "  0.70863364 0.76165279]]\n",
      "[0.86173905 0.78949908 0.90074774 0.21023779 0.90753385 0.37766037\n",
      " 0.83612181 0.07065745 0.20458992 0.04967077 0.69893116 0.12720572\n",
      " 0.78396055 0.95629857 0.3720273  0.81808391 0.44137928 0.13169722\n",
      " 0.83788495 0.7698047  0.19280218 0.2498486  0.70863364 0.76165279]\n"
     ]
    }
   ],
   "source": [
    "#change shape: reshape(), ravel(), flatten() #only flatten() is a copy instead of view\n",
    "#convert array1 into shape(3,8)\n",
    "array1_view_reshape = array1.reshape(3,8) #just a view not a copy\n",
    "print(array1_view_reshape)\n",
    "array1_flatten_copy = array1.flatten() #ravel(), reshape(-1) also work, but just get a view\n",
    "print(array1_flatten_copy)\n"
   ]
  },
  {
   "cell_type": "code",
   "execution_count": 8,
   "metadata": {},
   "outputs": [
    {
     "name": "stdout",
     "output_type": "stream",
     "text": [
      "matrix_a:\n",
      "[[4 6 0 5]\n",
      " [7 1 2 8]\n",
      " [4 3 2 7]\n",
      " [4 5 4 4]]\n",
      "matrix_b:\n",
      "[[3 4 5 5]\n",
      " [6 4 8 7]\n",
      " [7 1 4 7]\n",
      " [1 7 8 1]]\n",
      "[[4 6 0 5 3 4 5 5]\n",
      " [7 1 2 8 6 4 8 7]\n",
      " [4 3 2 7 7 1 4 7]\n",
      " [4 5 4 4 1 7 8 1]]\n",
      "[[4 6 0 5]\n",
      " [7 1 2 8]\n",
      " [4 3 2 7]\n",
      " [4 5 4 4]\n",
      " [3 4 5 5]\n",
      " [6 4 8 7]\n",
      " [7 1 4 7]\n",
      " [1 7 8 1]]\n"
     ]
    }
   ],
   "source": [
    "#horizontal or vertical stack(opposite:hsplit(matrix, breakpotints_index_list))\n",
    "#copy not view\n",
    "matrix_a = np.random.randint(0, 10, (4,4))\n",
    "print(\"matrix_a:\")\n",
    "print(matrix_a)\n",
    "matrix_b= np.random.randint(10, size=(4,4))\n",
    "print(\"matrix_b:\")\n",
    "print(matrix_b)\n",
    "#np.hsatck([a, b]), np.c_[]\n",
    "#h_result = np.hstack([matrix_a,matrix_b]) \n",
    "h_result = np.c_[matrix_a, matrix_b]\n",
    "print(h_result)\n",
    "#np.vstack([a, b]), np.r_[]\n",
    "#v_result = np.vstack([matrix_a,matrix_b]) \n",
    "v_result = np.r_[matrix_a, matrix_b]\n",
    "print(v_result)\n"
   ]
  },
  {
   "cell_type": "code",
   "execution_count": 9,
   "metadata": {},
   "outputs": [
    {
     "name": "stdout",
     "output_type": "stream",
     "text": [
      "[[1. 1. 1. 1. 1. 1. 1. 1. 1. 1. 1. 1. 1. 1. 1. 1.]\n",
      " [1. 0. 0. 0. 0. 0. 0. 0. 0. 0. 0. 0. 0. 0. 0. 1.]\n",
      " [1. 0. 0. 0. 0. 0. 0. 0. 0. 0. 0. 0. 0. 0. 0. 1.]\n",
      " [1. 0. 0. 0. 0. 0. 0. 0. 0. 0. 0. 0. 0. 0. 0. 1.]\n",
      " [1. 0. 0. 0. 0. 0. 0. 0. 0. 0. 0. 0. 0. 0. 0. 1.]\n",
      " [1. 0. 0. 0. 0. 0. 0. 0. 0. 0. 0. 0. 0. 0. 0. 1.]\n",
      " [1. 0. 0. 0. 0. 0. 0. 0. 0. 0. 0. 0. 0. 0. 0. 1.]\n",
      " [1. 0. 0. 0. 0. 0. 0. 0. 0. 0. 0. 0. 0. 0. 0. 1.]\n",
      " [1. 0. 0. 0. 0. 0. 0. 0. 0. 0. 0. 0. 0. 0. 0. 1.]\n",
      " [1. 0. 0. 0. 0. 0. 0. 0. 0. 0. 0. 0. 0. 0. 0. 1.]\n",
      " [1. 0. 0. 0. 0. 0. 0. 0. 0. 0. 0. 0. 0. 0. 0. 1.]\n",
      " [1. 0. 0. 0. 0. 0. 0. 0. 0. 0. 0. 0. 0. 0. 0. 1.]\n",
      " [1. 0. 0. 0. 0. 0. 0. 0. 0. 0. 0. 0. 0. 0. 0. 1.]\n",
      " [1. 0. 0. 0. 0. 0. 0. 0. 0. 0. 0. 0. 0. 0. 0. 1.]\n",
      " [1. 0. 0. 0. 0. 0. 0. 0. 0. 0. 0. 0. 0. 0. 0. 1.]\n",
      " [1. 1. 1. 1. 1. 1. 1. 1. 1. 1. 1. 1. 1. 1. 1. 1.]]\n"
     ]
    }
   ],
   "source": [
    "#slice(just view not a copy)\n",
    "#切片赋值\n",
    "#创建一个周围全1中间全0的16*16数组\n",
    "matrix = np.zeros((16,16))\n",
    "\n",
    "#set elements of the first row all 1\n",
    "matrix[0,:] = 1 #element-wise operation\n",
    "#set elements of the last row all 1\n",
    "matrix[15, :] = 1\n",
    "\n",
    "#set elements of the first column all 1\n",
    "matrix[:,0] = 1 #element-wise operation\n",
    "#set elements of the last column all 1\n",
    "matrix[:, 15] = 1\n",
    "\n",
    "print(matrix)\n"
   ]
  },
  {
   "cell_type": "code",
   "execution_count": 12,
   "metadata": {},
   "outputs": [
    {
     "name": "stdout",
     "output_type": "stream",
     "text": [
      "[84 93 31 ... 93 37 63]\n",
      "mean: 49.119, var: 840.0102390000001, std: 28.982930131372157\n",
      "[ 1.2035015   1.51402911 -0.62516108 ...  1.51402911 -0.41814268\n",
      "  0.47893708]\n",
      "max: 99, loc: 126\n",
      "min: 0, loc: 102\n",
      "[0.84848485 0.93939394 0.31313131 ... 0.93939394 0.37373737 0.63636364]\n"
     ]
    }
   ],
   "source": [
    "#Normalization of array\n",
    "array_orig = np.random.randint(100, size=10000)\n",
    "print(array_orig)\n",
    "#Zero Normalization\n",
    "mean, var, std = array_orig.mean(), array_orig.var(),array_orig.std()#get mean, var, std\n",
    "print(\"mean: {}, var: {}, std: {}\".format(mean, var, std))\n",
    "array_norm1 = (array_orig-mean) / std\n",
    "print(array_norm1)\n",
    "#Min-max Normalization\n",
    "max_idx = np.argmax(array_orig)\n",
    "min_idx = np.argmin(array_orig)\n",
    "max_v, min_v = array_orig[max_idx], array_orig[min_idx]\n",
    "print(\"max: {}, loc: {}\".format(max_v, max_idx))\n",
    "print(\"min: {}, loc: {}\".format(min_v, min_idx))\n",
    "array_norm2 = (array_orig-min_v) / (max_v-min_v)\n",
    "print(array_norm2)"
   ]
  },
  {
   "cell_type": "code",
   "execution_count": 15,
   "metadata": {},
   "outputs": [
    {
     "name": "stdout",
     "output_type": "stream",
     "text": [
      "All scores: [90 82 94 82 84 89 99 99 84 98 92 83 80 93 81 92 93 90 86 85 98 96 85 90\n",
      " 96 85 92 90 81 82]\n",
      "Scores >= 95: [99 99 98 98 96 96]\n",
      "Scores <= 85: [82 82 84 84 83 80 81 85 85 85 81 82]\n",
      "Scores in (85,95): [90 94 89 92 93 92 93 90 86 90 92 90]\n",
      "[80 81 81 82 82 82 83 84 84 85 85 85 86 89 90 90 90 90 92 92 92 93 93 94\n",
      " 96 96 98 98 99 99]\n",
      "[80 81 81 82 82 82 83 84 84 85 85 85 86 89 90 90 90 90 92 92 92 93 93 94\n",
      " 96 96 98 98 99 99]\n"
     ]
    }
   ],
   "source": [
    "#Bool hidden mask\n",
    "scores = np.random.randint(80, 100, 30)\n",
    "print(\"All scores:\", scores)\n",
    "#get scores >= 95\n",
    "print(\"Scores >= 95:\", scores[scores>=95])\n",
    "#get scores <= 85\n",
    "print(\"Scores <= 85:\", scores[scores<=85])\n",
    "#get scores in (85,95)\n",
    "print(\"Scores in (85,95):\", scores[(scores>85) & (scores<95)]) #op1 & op2 ->ops need ()\n",
    "#two ways to sort\n",
    "#np.sory(scores) returns a sorted array, doesn't change scores itself\n",
    "scores_sorted = np.sort(scores)\n",
    "print(scores_sorted)\n",
    "#scores.sort() changes itself\n",
    "scores.sort()\n",
    "print(scores)"
   ]
  },
  {
   "cell_type": "code",
   "execution_count": 18,
   "metadata": {},
   "outputs": [
    {
     "name": "stdout",
     "output_type": "stream",
     "text": [
      "Element-wise multipy\n",
      "10.8 µs ± 19.3 ns per loop (mean ± std. dev. of 7 runs, 100000 loops each)\n",
      "565 ns ± 0.562 ns per loop (mean ± std. dev. of 7 runs, 1000000 loops each)\n",
      "Matrix multiply\n",
      "101 µs ± 123 ns per loop (mean ± std. dev. of 7 runs, 10000 loops each)\n",
      "1.17 µs ± 5.91 ns per loop (mean ± std. dev. of 7 runs, 1000000 loops each)\n"
     ]
    }
   ],
   "source": [
    "#compare time of multiply using Python For and Numpy\n",
    "#ipython provides %timeit func()\n",
    "a = np.arange(9).reshape(3,3)\n",
    "b = np.arange(9).reshape(3,3)\n",
    "\n",
    "\n",
    "def mul_elewise(a, b):\n",
    "    ##element-wise multipy: a*b\n",
    "    if (a.shape != b.shape):\n",
    "        #can't operate under this condition\n",
    "        return\n",
    "    result = np.zeros(a.shape)\n",
    "    rows, cols = a.shape    \n",
    "    for i in range(rows):\n",
    "        for j in range(cols):\n",
    "            result[i][j] = a[i][j] * b[i][j]\n",
    "    \n",
    "    return result\n",
    "\n",
    "\n",
    "def mul_matrix(a,b):\n",
    "    #矩阵乘法\n",
    "    #result[i][j] = sum( a[i][m]*b[m][j] for m=0 to a.shape[1] or b.shape[0] )\n",
    "    if(a.shape[1] != b.shape[0]):\n",
    "        #can't operate under this condition\n",
    "        return\n",
    "    rows, mids = a.shape\n",
    "    cols =b.shape[1]\n",
    "    result = np.zeros( (rows, cols) )\n",
    "    for i in range(rows):\n",
    "        for j in range(cols):\n",
    "            for m in range(mids):\n",
    "                result += a[i][m] * b[m][j]\n",
    "    \n",
    "    return result\n",
    "\n",
    "#compare element-wise multipy\n",
    "print(\"Element-wise multipy\")\n",
    "%timeit mul_elewise(a, b)\n",
    "%timeit a*b\n",
    "\n",
    "#compare matrix multiply\n",
    "print(\"Matrix multiply\")\n",
    "%timeit mul_matrix(a, b)\n",
    "%timeit np.dot(a, b)\n",
    "    \n"
   ]
  },
  {
   "cell_type": "code",
   "execution_count": null,
   "metadata": {},
   "outputs": [],
   "source": []
  }
 ],
 "metadata": {
  "kernelspec": {
   "display_name": "Python 3",
   "language": "python",
   "name": "python3"
  },
  "language_info": {
   "codemirror_mode": {
    "name": "ipython",
    "version": 3
   },
   "file_extension": ".py",
   "mimetype": "text/x-python",
   "name": "python",
   "nbconvert_exporter": "python",
   "pygments_lexer": "ipython3",
   "version": "3.7.3"
  }
 },
 "nbformat": 4,
 "nbformat_minor": 2
}
