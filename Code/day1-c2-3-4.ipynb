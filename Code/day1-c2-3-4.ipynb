{
 "cells": [
  {
   "cell_type": "code",
   "execution_count": 1,
   "metadata": {},
   "outputs": [
    {
     "name": "stdout",
     "output_type": "stream",
     "text": [
      "please enter number1:3\n",
      "please enter number2:7\n",
      "<class 'int'>\n",
      "<class 'int'>\n",
      "number1*number2=21\n"
     ]
    }
   ],
   "source": [
    "# input two numbers, output the product of them\n",
    "number1 = eval(input(\"please enter number1:\"))\n",
    "number2 = eval(input(\"please enter number2:\"))\n",
    "print(type(number1))\n",
    "print(type(number2))\n",
    "print(\"number1*number2={}\".format(number1*number2))\n"
   ]
  },
  {
   "cell_type": "code",
   "execution_count": 5,
   "metadata": {},
   "outputs": [
    {
     "name": "stdout",
     "output_type": "stream",
     "text": [
      "左对齐填充*:0.61803*************\n",
      "居中填充*:******0.61803*******\n",
      "千分位显示:0.61803\n",
      "保留小数点后一位:0.6\n",
      "保留小数点后一位:0.618\n",
      "科学计数法保留1位:6.2e-01\n"
     ]
    }
   ],
   "source": [
    "# output 0.61803 according to formats\n",
    "num = 0.61803\n",
    "print(\"左对齐填充*:{:*<20}\".format(num))\n",
    "print(\"居中填充*:{:*^20}\".format(num))\n",
    "print(\"千分位显示:{:,}\".format(num))\n",
    "print(\"保留小数点后一位:{:.01f}\".format(num))\n",
    "print(\"保留小数点后一位:{:.03f}\".format(num))\n",
    "print(\"科学计数法保留1位:{:.01e}\".format(num))"
   ]
  },
  {
   "cell_type": "code",
   "execution_count": null,
   "metadata": {},
   "outputs": [],
   "source": [
    "#divide mod\n",
    "#x//y x%y divmod(x,y)\n",
    "#x/y -> float"
   ]
  },
  {
   "cell_type": "code",
   "execution_count": 6,
   "metadata": {},
   "outputs": [
    {
     "data": {
      "text/plain": [
       "1"
      ]
     },
     "execution_count": 6,
     "metadata": {},
     "output_type": "execute_result"
    }
   ],
   "source": [
    "#round(num,i) 保留i位小数，default四舍五入保留到整数\n",
    "round(num)"
   ]
  },
  {
   "cell_type": "code",
   "execution_count": 7,
   "metadata": {},
   "outputs": [
    {
     "name": "stdout",
     "output_type": "stream",
     "text": [
      "正向索引切片：python\n",
      "负向索引切片：python\n"
     ]
    }
   ],
   "source": [
    "s = \"python is a good language\"\n",
    "#正向索引负向索引取python\n",
    "print(\"正向索引切片：{}\".format(s[0:6]))\n",
    "print(\"负向索引切片：{}\".format(s[-len(s):-len(s)+6]))\n"
   ]
  },
  {
   "cell_type": "code",
   "execution_count": 8,
   "metadata": {},
   "outputs": [
    {
     "name": "stdout",
     "output_type": "stream",
     "text": [
      "首字母大写：Python Is A Good Language\n",
      "python is a good language\n"
     ]
    }
   ],
   "source": [
    "#s.upper() s.lower()\n",
    "#s.title()首字母大写\n",
    "print(\"首字母大写：{}\".format(s.title()))\n",
    "print(s)\n"
   ]
  },
  {
   "cell_type": "code",
   "execution_count": 10,
   "metadata": {},
   "outputs": [
    {
     "name": "stdout",
     "output_type": "stream",
     "text": [
      "o appears 3 times in s\n"
     ]
    }
   ],
   "source": [
    "#s.count(c)\n",
    "print(\"o appears {} times in s\".format(s.count(\"o\")))\n"
   ]
  },
  {
   "cell_type": "code",
   "execution_count": 11,
   "metadata": {},
   "outputs": [
    {
     "name": "stdout",
     "output_type": "stream",
     "text": [
      "replace python with c++:c++ is a good language\n",
      "python is a good language\n"
     ]
    }
   ],
   "source": [
    "#s.replace(\"python\",ano_str)\n",
    "print(\"replace python with c++:{}\".format(s.replace(\"python\",\"c++\")))\n",
    "print(s)"
   ]
  },
  {
   "cell_type": "code",
   "execution_count": 12,
   "metadata": {},
   "outputs": [
    {
     "name": "stdout",
     "output_type": "stream",
     "text": [
      "python\n",
      "is\n",
      "a\n",
      "good\n",
      "language\n"
     ]
    }
   ],
   "source": [
    "#sentence->word list\n",
    "word_list = s.split(\" \")\n",
    "for word in word_list:\n",
    "    print(word)"
   ]
  },
  {
   "cell_type": "code",
   "execution_count": 14,
   "metadata": {},
   "outputs": [
    {
     "name": "stdout",
     "output_type": "stream",
     "text": [
      "'*'.join(words): python*is*a*good*language\n"
     ]
    }
   ],
   "source": [
    "#c.join(s) or c.join(list) other iterative objects\n",
    "print(\"'*'.join(words): {}\".format(\"*\".join(word_list)))"
   ]
  },
  {
   "cell_type": "code",
   "execution_count": 17,
   "metadata": {},
   "outputs": [
    {
     "name": "stdout",
     "output_type": "stream",
     "text": [
      "bin:0b11111111  oct:0o377  hex:0xff\n",
      "bin:255  oct:255  hex:255\n"
     ]
    }
   ],
   "source": [
    "# 转换进制\n",
    "#convert e to b,o,x\n",
    "num = 255\n",
    "a = bin(num)\n",
    "b = oct(num)\n",
    "c = hex(num)\n",
    "print(\"bin:{}  oct:{}  hex:{}\".format(a,b,c))\n",
    "##convert b,o,x to e\n",
    "a_int = int(a,2)\n",
    "b_int = int(b,8)\n",
    "c_int = int(c,16)\n",
    "print(\"bin:{}  oct:{}  hex:{}\".format(a_int,b_int,c_int))"
   ]
  },
  {
   "cell_type": "code",
   "execution_count": 20,
   "metadata": {},
   "outputs": [],
   "source": [
    "#100以内偶数(even number instead of odd number)列表\n",
    "even_list = [2*i for i in range(0,50)]"
   ]
  },
  {
   "cell_type": "code",
   "execution_count": 21,
   "metadata": {},
   "outputs": [
    {
     "name": "stdout",
     "output_type": "stream",
     "text": [
      "when positive index is 2: c\n",
      "when negative index is -3: c\n"
     ]
    }
   ],
   "source": [
    "ls = [\"a\", \"b\", \"c\", \"d\", \"e\"]\n",
    "#positive&negative index to visit \"c\"\n",
    "print(\"when positive index is 2: {}\".format(ls[2]))\n",
    "print(\"when negative index is -3: {}\".format(ls[-3]))"
   ]
  },
  {
   "cell_type": "code",
   "execution_count": 22,
   "metadata": {},
   "outputs": [
    {
     "name": "stdout",
     "output_type": "stream",
     "text": [
      "ls[1:4:2]: ['b', 'd']\n"
     ]
    }
   ],
   "source": [
    "#slice ls to get [\"b\", \"d\"]\n",
    "print(\"ls[1:4:2]: {}\".format(ls[1:4:2]))"
   ]
  },
  {
   "cell_type": "code",
   "execution_count": 23,
   "metadata": {},
   "outputs": [
    {
     "name": "stdout",
     "output_type": "stream",
     "text": [
      "ls[::-1]: ['e', 'd', 'c', 'b', 'a']\n"
     ]
    }
   ],
   "source": [
    "#slice ls to get it reversed\n",
    "print(\"ls[::-1]: {}\".format(ls[::-1]))"
   ]
  },
  {
   "cell_type": "code",
   "execution_count": 25,
   "metadata": {},
   "outputs": [
    {
     "name": "stdout",
     "output_type": "stream",
     "text": [
      "append: ['BYD', 'GEELY', 'TOYOTA']\n",
      "insert ele: ['BYD', 'CHERY', 'GEELY', 'TOYOTA']\n",
      "extend: ['BYD', 'CHERY', 'GEELY', 'TOYOTA', 'BMW', 'BENZ']\n",
      "delete element by index: ['BYD', 'CHERY', 'GEELY', 'BMW']\n",
      "delete element by content: ['BYD', 'CHERY', 'BMW']\n",
      "the index of 'BMW'is 2\n",
      "change 'chery' into 'qq': ['BYD', 'QQ', 'BMW']\n"
     ]
    }
   ],
   "source": [
    "cars = [\"BYD\", \"GEELY\"]\n",
    "#list.append(e)\n",
    "cars.append(\"TOYOTA\")\n",
    "print(\"append: {}\".format(cars))\n",
    "#list.insert(i,e)\n",
    "cars.insert(1,\"CHERY\")\n",
    "print(\"insert ele: {}\".format(cars))\n",
    "#list.extend(ano_list) or list+=ano_list\n",
    "cars.extend([\"BMW\"])\n",
    "cars += [\"BENZ\"]\n",
    "print(\"extend: {}\".format(cars))\n",
    "#delete element by index\n",
    "cars.pop()\n",
    "cars.pop(3)\n",
    "print(\"delete element by index: {}\".format(cars))\n",
    "#delete element by content\n",
    "cars.remove(\"GEELY\")\n",
    "print(\"delete element by content: {}\".format(cars))\n",
    "#query index by content\n",
    "idx = cars.index(\"BMW\")\n",
    "print(\"the index of 'BMW'is {}\".format(idx))\n",
    "#change \"chery\" into \"qq\"\n",
    "idx = cars.index(\"CHERY\")\n",
    "cars[idx] = \"QQ\"\n",
    "print(\"change 'chery' into 'qq': {}\".format(cars))\n"
   ]
  },
  {
   "cell_type": "code",
   "execution_count": 28,
   "metadata": {},
   "outputs": [
    {
     "name": "stdout",
     "output_type": "stream",
     "text": [
      "cars_copy1 before sort(): ['BYD', 'QQ', 'BMW']\n",
      "the result of sort(): {} None\n",
      "cars_copy1 after sort(): ['BMW', 'BYD', 'QQ']\n",
      "cars_copy2 before sorted(): ['BYD', 'QQ', 'BMW']\n",
      "the result of sorted(): {} ['BMW', 'BYD', 'QQ']\n",
      "cars_copy2 after sorted(): ['BYD', 'QQ', 'BMW']\n"
     ]
    }
   ],
   "source": [
    "#two ways to copy list\n",
    "cars_copy1 = cars.copy()\n",
    "cars_copy2 = cars[::]\n",
    "#two functions to sort list\n",
    "#list.sort(reverse=False) which changes list itself\n",
    "\"\"\"\n",
    "print(\"cars_copy1 before sort(): {}\".format(cars_copy1)\n",
    "cars_sort = cars_copy1.sort(reverse=False)\n",
    "print(\"the result of sort(): {}\",format(cars_sort))\n",
    "print(\"cars_copy1 after sort(): {}\".format(cars_copy1))\n",
    "\"\"\"\n",
    "print(\"cars_copy1 before sort(): {}\".format(cars_copy1))\n",
    "cars_sort = cars_copy1.sort(reverse=False)\n",
    "print(\"the return of sort(): {}\",format(cars_sort))\n",
    "print(\"cars_copy1 after sort(): {}\".format(cars_copy1))\n",
    "#sorted(list,reverse=False) which doesn't change list itself\n",
    "print(\"cars_copy2 before sorted(): {}\".format(cars_copy2))\n",
    "cars_sorted = sorted(cars_copy2, reverse=False)\n",
    "print(\"the return of sorted(): {}\",format(cars_sorted))\n",
    "print(\"cars_copy2 after sorted(): {}\".format(cars_copy2))"
   ]
  },
  {
   "cell_type": "code",
   "execution_count": 29,
   "metadata": {},
   "outputs": [
    {
     "name": "stdout",
     "output_type": "stream",
     "text": [
      "cars_copy1 before reverse(): ['BYD', 'QQ', 'BMW']\n",
      "the return of reverse(): {} None\n",
      "cars_copy1 after reverse(): ['BMW', 'QQ', 'BYD']\n",
      "cars_copy2[::-1]: ['BMW', 'QQ', 'BYD']\n"
     ]
    }
   ],
   "source": [
    "cars_copy1 = cars_copy2.copy()\n",
    "#two ways to reverse list\n",
    "#list.reverse which changes list itself\n",
    "print(\"cars_copy1 before reverse(): {}\".format(cars_copy1))\n",
    "cars_reverse = cars_copy1.reverse()\n",
    "print(\"the return of reverse(): {}\",format(cars_reverse))\n",
    "print(\"cars_copy1 after reverse(): {}\".format(cars_copy1))\n",
    "#list[::-1] which doesn't change list itself\n",
    "print(\"cars_copy2[::-1]: {}\".format(cars_copy2[::-1]))"
   ]
  },
  {
   "cell_type": "code",
   "execution_count": 30,
   "metadata": {},
   "outputs": [
    {
     "name": "stdout",
     "output_type": "stream",
     "text": [
      "My first car is BYD\n",
      "My first car is QQ\n",
      "My first car is BMW\n"
     ]
    }
   ],
   "source": [
    "for car in cars:\n",
    "    print(\"My first car is {}\".format(car))"
   ]
  },
  {
   "cell_type": "code",
   "execution_count": 32,
   "metadata": {},
   "outputs": [
    {
     "name": "stdout",
     "output_type": "stream",
     "text": [
      "<zip object at 0x10fdc37c8>\n",
      "('bread', 2.4)\n",
      "('fish', 9.8)\n",
      "('potato', 0.9)\n",
      "bread 2.4\n",
      "fish 9.8\n",
      "potato 0.9\n"
     ]
    }
   ],
   "source": [
    "#zip of tuple()\n",
    "foods = [\"bread\", \"fish\", \"potato\"]\n",
    "prices = [2.4, 9.8, 0.9]\n",
    "print(zip(foods, prices))\n",
    "for item in zip(foods, prices):\n",
    "    print(item)\n",
    "for food, price in zip(foods, prices):\n",
    "    print(food, end=\" \")\n",
    "    print(price)"
   ]
  },
  {
   "cell_type": "code",
   "execution_count": 35,
   "metadata": {},
   "outputs": [
    {
     "name": "stdout",
     "output_type": "stream",
     "text": [
      "the length of fav_fruits is 3\n",
      "Jen's favorite fruit is Banana\n",
      "{'Judy': 'watermelon', 'Jen': 'Banana', 'Sarah': 'Orange', 'Tom': 'Peach', 'Bob': 'Tomato'}\n",
      "Judy:watermelon has been deleted\n",
      "{'Jen': 'Banana', 'Sarah': 'Orange', 'Tom': 'Peach', 'Bob': 'Tomato'}\n",
      "Bob:Tomato has been deleted\n",
      "{'Jen': 'Banana', 'Sarah': 'Orange', 'Tom': 'Peach'}\n",
      "Sarah's favorite has been changed\n",
      "{'Jen': 'Banana', 'Sarah': 'watermelon', 'Tom': 'Peach'}\n",
      "Jen's favorite fruit is Banana\n",
      "Sarah's favorite fruit is watermelon\n",
      "Tom's favorite fruit is Peach\n"
     ]
    }
   ],
   "source": [
    "#dict{}\n",
    "fav_fruits = {\"Judy\": \"watermelon\", \"Jen\": \"Banana\", \"Sarah\": \"Orange\"}\n",
    "print(\"the length of fav_fruits is {}\".format(len(fav_fruits)))\n",
    "print(\"Jen's favorite fruit is {}\".format(fav_fruits[\"Jen\"]))\n",
    "fav_fruits[\"Tom\"] = \"Peach\"\n",
    "fav_fruits[\"Bob\"] = \"Tomato\"\n",
    "print(fav_fruits)\n",
    "#two ways to delete item by key\n",
    "#del fav_fruits[\"Judy\"]\n",
    "value = fav_fruits.pop(\"Judy\")\n",
    "print(\"Judy:{} has been deleted\".format(value))\n",
    "print(fav_fruits)\n",
    "#delete one item randomly\n",
    "key, value = fav_fruits.popitem()\n",
    "print(\"{}:{} has been deleted\".format(key, value))\n",
    "print(fav_fruits)\n",
    "#revise value\n",
    "fav_fruits[\"Sarah\"] = \"watermelon\"\n",
    "print(\"Sarah's favorite has been changed\")\n",
    "print(fav_fruits)\n",
    "#dict.keys(), dict.values()\n",
    "#dict.items()\n",
    "for person, fruit in fav_fruits.items():\n",
    "    print(\"{}'s favorite fruit is {}\".format(person,fruit))"
   ]
  },
  {
   "cell_type": "code",
   "execution_count": 36,
   "metadata": {},
   "outputs": [
    {
     "name": "stdout",
     "output_type": "stream",
     "text": [
      "('八', 2)\n",
      "('百', 2)\n",
      "('标', 3)\n",
      "('兵', 6)\n",
      "('奔', 1)\n",
      "('北', 2)\n",
      "('坡', 2)\n",
      "(',', 1)\n",
      "('炮', 5)\n",
      "('。', 2)\n",
      "('怕', 2)\n",
      "('碰', 2)\n",
      "('，', 1)\n",
      "('把', 1)\n"
     ]
    }
   ],
   "source": [
    "# count character using dict\n",
    "text = \"八百标兵奔北坡,北坡八百炮兵炮。标兵怕碰炮兵炮，炮兵怕把标兵碰。\"\n",
    "c_count = {}\n",
    "for c in text:\n",
    "    c_count[c] = c_count.get(c,0) + 1\n",
    "for item in c_count.items():\n",
    "    print(item)"
   ]
  },
  {
   "cell_type": "code",
   "execution_count": 38,
   "metadata": {},
   "outputs": [
    {
     "name": "stdout",
     "output_type": "stream",
     "text": [
      "vegetables:{'cabbage', 'eggplant', 'cucumber', 'tomato'}\n",
      "fruits:{'orange', 'cucumber', 'tomato', 'banana'}\n",
      "what belongs to vegatables as well as fruits:{'cucumber', 'tomato'}\n",
      "what belongs to vegatables or fruits:{'cabbage', 'eggplant', 'banana', 'orange', 'cucumber', 'tomato'}\n",
      "what only belongs to vegatables or fruits:{'cabbage', 'eggplant', 'banana', 'orange'}\n",
      "what belongs to vegatables and not fruits:{'cabbage', 'eggplant'}\n"
     ]
    }
   ],
   "source": [
    "#set{}\n",
    "vegetables = {\"tomato\", \"cabbage\", \"cucumber\", \"meat\"}\n",
    "fruits = {\"banana\", \"orange\", \"tomato\", \"cucumber\"}\n",
    "#set.remove(e)\n",
    "vegetables.remove(\"meat\")\n",
    "#set.add(e)\n",
    "vegetables.add(\"eggplant\")\n",
    "print(\"vegetables:{}\".format(vegetables))\n",
    "print(\"fruits:{}\".format(fruits))\n",
    "print(\"what belongs to vegatables as well as fruits:{}\".format(vegetables & fruits))\n",
    "print(\"what belongs to vegatables or fruits:{}\".format(vegetables | fruits))\n",
    "print(\"what only belongs to vegatables or fruits:{}\".format(vegetables ^ fruits))\n",
    "print(\"what belongs to vegatables and not fruits:{}\".format(vegetables - fruits))"
   ]
  },
  {
   "cell_type": "code",
   "execution_count": null,
   "metadata": {},
   "outputs": [],
   "source": []
  }
 ],
 "metadata": {
  "kernelspec": {
   "display_name": "Python 3",
   "language": "python",
   "name": "python3"
  },
  "language_info": {
   "codemirror_mode": {
    "name": "ipython",
    "version": 3
   },
   "file_extension": ".py",
   "mimetype": "text/x-python",
   "name": "python",
   "nbconvert_exporter": "python",
   "pygments_lexer": "ipython3",
   "version": "3.7.3"
  }
 },
 "nbformat": 4,
 "nbformat_minor": 2
}
