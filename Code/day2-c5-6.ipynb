{
 "cells": [
  {
   "cell_type": "code",
   "execution_count": 1,
   "metadata": {},
   "outputs": [
    {
     "name": "stdout",
     "output_type": "stream",
     "text": [
      "True or False and False= True\n",
      "list1 is not empty\n",
      "list2 is empty\n",
      "1 exists in list1: False\n",
      "c exists in s: True\n"
     ]
    }
   ],
   "source": [
    "#bool operations\n",
    "#priority: not > and > or\n",
    "print(\"True or False and False= {}\".format(True or False and False))\n",
    "#whether it is empty\n",
    "list1 = [0]*2\n",
    "list2 = []\n",
    "if list1:\n",
    "    print(\"list1 is not empty\")\n",
    "if not list2:\n",
    "    print(\"list2 is empty\")\n",
    "#in/ not in list(string)\n",
    "print(\"1 exists in list1: {}\".format(1 in list1))\n",
    "s = \"abcd\"\n",
    "print(\"c exists in s: {}\".format('c' in s))"
   ]
  },
  {
   "cell_type": "code",
   "execution_count": 3,
   "metadata": {},
   "outputs": [
    {
     "name": "stdout",
     "output_type": "stream",
     "text": [
      "please enter a number: 1\n",
      "your ball: white, your reward: 10\n"
     ]
    }
   ],
   "source": [
    "# if elif else\n",
    "balls = [\"black\", \"white\", \"blue\", \"pink\", \"purple\", \"rainbow\"]\n",
    "rewards = [0, 10, 20, 30, 50, 100]\n",
    "my_num = eval(input(\"please enter a number: \"))\n",
    "my_ball = balls[my_num % 6]\n",
    "if my_ball == balls[0]:\n",
    "    print(\"your ball: {}, your reward: {}\".format(my_ball, rewards[0]))\n",
    "elif my_ball == balls[1]:\n",
    "    print(\"your ball: {}, your reward: {}\".format(my_ball, rewards[1]))\n",
    "elif my_ball == balls[2]:\n",
    "    print(\"your ball: {}, your reward: {}\".format(my_ball, rewards[2]))\n",
    "elif my_ball == balls[3]:\n",
    "    print(\"your ball: {}, your reward: {}\".format(my_ball, rewards[3]))\n",
    "elif my_ball == balls[4]:\n",
    "    print(\"your ball: {}, your reward: {}\".format(my_ball, rewards[4]))\n",
    "else:\n",
    "    print(\"your ball: {}, your reward: {}\".format(my_ball, rewards[5]))\n"
   ]
  },
  {
   "cell_type": "code",
   "execution_count": null,
   "metadata": {},
   "outputs": [],
   "source": []
  },
  {
   "cell_type": "code",
   "execution_count": 5,
   "metadata": {},
   "outputs": [
    {
     "name": "stdout",
     "output_type": "stream",
     "text": [
      "1*1 = 1   1*2 = 2   1*3 = 3   1*4 = 4   1*5 = 5   1*6 = 6   1*7 = 7   1*8 = 8   1*9 = 9   \n",
      "2*1 = 2   2*2 = 4   2*3 = 6   2*4 = 8   2*5 = 10   2*6 = 12   2*7 = 14   2*8 = 16   2*9 = 18   \n",
      "3*1 = 3   3*2 = 6   3*3 = 9   3*4 = 12   3*5 = 15   3*6 = 18   3*7 = 21   3*8 = 24   3*9 = 27   \n",
      "4*1 = 4   4*2 = 8   4*3 = 12   4*4 = 16   4*5 = 20   4*6 = 24   4*7 = 28   4*8 = 32   4*9 = 36   \n",
      "5*1 = 5   5*2 = 10   5*3 = 15   5*4 = 20   5*5 = 25   5*6 = 30   5*7 = 35   5*8 = 40   5*9 = 45   \n",
      "6*1 = 6   6*2 = 12   6*3 = 18   6*4 = 24   6*5 = 30   6*6 = 36   6*7 = 42   6*8 = 48   6*9 = 54   \n",
      "7*1 = 7   7*2 = 14   7*3 = 21   7*4 = 28   7*5 = 35   7*6 = 42   7*7 = 49   7*8 = 56   7*9 = 63   \n",
      "8*1 = 8   8*2 = 16   8*3 = 24   8*4 = 32   8*5 = 40   8*6 = 48   8*7 = 56   8*8 = 64   8*9 = 72   \n",
      "9*1 = 9   9*2 = 18   9*3 = 27   9*4 = 36   9*5 = 45   9*6 = 54   9*7 = 63   9*8 = 72   9*9 = 81   \n"
     ]
    }
   ],
   "source": [
    "#print 9*9\n",
    "for i in range(1, 10):\n",
    "    for j in range(1, 10):\n",
    "        print(\"{}*{} = {}\".format(i,j,i*j), end=\"   \")\n",
    "    print(\"\")"
   ]
  },
  {
   "cell_type": "code",
   "execution_count": 11,
   "metadata": {},
   "outputs": [
    {
     "name": "stdout",
     "output_type": "stream",
     "text": [
      "Please enter your student id(ie. 20180201) or press Q or q to exit): 20180201\n",
      "Please enter your name:jhon\n",
      "Please enter your gender (0 for female, 1 for male): 1\n",
      "[['20180201', 'jhon', '1']]\n",
      "Please enter your student id(ie. 20180201) or press Q or q to exit): 20180202\n",
      "Please enter your name:mary\n",
      "Please enter your gender (0 for female, 1 for male): 0\n",
      "[['20180201', 'jhon', '1'], ['20180202', 'mary', '0']]\n",
      "Please enter your student id(ie. 20180201) or press Q or q to exit): q\n",
      "Student Id: 20180201, Name: jhon, Gender: 1\n",
      "Student Id: 20180202, Name: mary, Gender: 0\n"
     ]
    }
   ],
   "source": [
    "#input&output students' information of G3C2\n",
    "student_id = input(\"Please enter your student id(ie. 20180201) or press Q or q to exit): \")\n",
    "exit_keys = [\"Q\", \"q\"]\n",
    "students = []\n",
    "while student_id not in exit_keys:\n",
    "    #print(student_id)\n",
    "    name = input(\"Please enter your name:\")\n",
    "    #print(name)\n",
    "    gender = input(\"Please enter your gender (0 for female, 1 for male): \")\n",
    "    #print(gender)\n",
    "    students.append([student_id, name, gender])\n",
    "    print(students)\n",
    "    student_id = input(\"Please enter your student id(ie. 20180201) or press Q or q to exit): \")\n",
    "    \n",
    "for student in students:\n",
    "    print(\"Student Id: {}, Name: {}, Gender: {}\".format(student[0], student[1], student[2]))"
   ]
  },
  {
   "cell_type": "code",
   "execution_count": 24,
   "metadata": {},
   "outputs": [
    {
     "name": "stdout",
     "output_type": "stream",
     "text": [
      "['兵', '炮', '标', '八', '百', '北', '坡', '。', '怕', '碰', '奔', ',', '，', '把']\n"
     ]
    }
   ],
   "source": [
    "#key = lamba x: x[0]\n",
    "#list.sort(), sorted(list)\n",
    "#min(list), max(list)\n",
    "# sort characters by frequency\n",
    "text = \"八百标兵奔北坡,北坡八百炮兵炮。标兵怕碰炮兵炮，炮兵怕把标兵碰。\"\n",
    "c_count = {}\n",
    "for c in text:    \n",
    "    c_count[c] = c_count.get(c,0) + 1\n",
    "c_list = list(c_count.keys())\n",
    "c_list.sort(reverse=True, key=lambda x: c_count[x])\n",
    "print(c_list)"
   ]
  },
  {
   "cell_type": "code",
   "execution_count": 33,
   "metadata": {},
   "outputs": [
    {
     "name": "stdout",
     "output_type": "stream",
     "text": [
      "please enter A's probability to score one ball:0.52\n",
      "please enter the number of games:10000\n",
      "A's probability of scoring: 0.52, B's probability of scoring: 0.48\n",
      "There are 10000 games between A and B\n",
      "A wins 0 games, taking 0.00%\n",
      "B wins 10000 games, taking 100.00%\n"
     ]
    }
   ],
   "source": [
    "#simulate pingpong games\n",
    "#prob->the probability of scoring one ball\n",
    "#in one game, who first scores 21 wins\n",
    "#who wins after n games\n",
    "import random\n",
    "\n",
    "def get_inputs():\n",
    "    #get all the inputs needed\n",
    "    prob_a = eval(input(\"please enter A's probability to score one ball:\"))\n",
    "    while prob_a<0 or prob_a>1:\n",
    "        print(\"Invalid value! Please ensure it fall in [0,1]\")\n",
    "        prob_a = eval(input(\"please enter A's probability to score one ball:\"))\n",
    "    prob_b = round(1-prob_a, 2)\n",
    "    number_of_games = eval(input(\"please enter the number of games:\"))\n",
    "    print(\"A's probability of scoring: {}, B's probability of scoring: {}\".format(prob_a, prob_b))\n",
    "    print(\"There are {} games between A and B\".format(number_of_games))\n",
    "    return prob_a, prob_b, number_of_games\n",
    "\n",
    "\n",
    "def not_over(score_a, score_b):\n",
    "    #if over, return Flase\n",
    "    \"\"\"\n",
    "    if score_a>=21 or score_b>=21:\n",
    "        return False\n",
    "    \n",
    "    \"\"\"\n",
    "    \"\"\"\n",
    "    if (score_a>=21 or score_b>=21) and abs(score_a-score_b)>=2:\n",
    "        return False\n",
    "    \"\"\"\n",
    "    if score_a>=2 or score_b>=2:\n",
    "        return False\n",
    "    \n",
    "    \n",
    "    return True\n",
    "    \n",
    "    \n",
    "def one_game(prob_a):\n",
    "    #who wins the new game\n",
    "    #if A wins, return True, else return False\n",
    "    score_a, score_b = 0, 0\n",
    "    while(not_over(score_a, score_b)):\n",
    "        prob = random.random() #(0,1)\n",
    "        if prob < prob_a:\n",
    "            score_a +=1\n",
    "        else:\n",
    "            score_b +=1\n",
    "    if score_a==21:\n",
    "        return True\n",
    "    else:\n",
    "        return False\n",
    "    \n",
    "    \n",
    "def n_games(prob_a, number_of_games):\n",
    "    #return win_a, win_b\n",
    "    win_a, win_b = 0, 0\n",
    "    for i in range(number_of_games):\n",
    "        flag_a = one_game(prob_a)\n",
    "        if flag_a:\n",
    "            win_a +=1\n",
    "        else:\n",
    "            win_b +=1\n",
    "    return win_a, win_b\n",
    "\n",
    "\n",
    "def print_summary(win_a, win_b, number_of_games):\n",
    "    print(\"A wins {} games, taking {:.2%}\".format(win_a, win_a/number_of_games))\n",
    "    print(\"B wins {} games, taking {:.2%}\".format(win_b, win_b/number_of_games))\n",
    "\n",
    "def main():\n",
    "    # main func\n",
    "    prob_a, prob_b, number_of_games = get_inputs()\n",
    "    win_a, win_b = n_games(prob_a, number_of_games)\n",
    "    print_summary(win_a, win_b, number_of_games)\n",
    "    \n",
    "    \n",
    "if __name__ == \"__main__\":\n",
    "    main()"
   ]
  },
  {
   "cell_type": "code",
   "execution_count": null,
   "metadata": {},
   "outputs": [],
   "source": []
  }
 ],
 "metadata": {
  "kernelspec": {
   "display_name": "Python 3",
   "language": "python",
   "name": "python3"
  },
  "language_info": {
   "codemirror_mode": {
    "name": "ipython",
    "version": 3
   },
   "file_extension": ".py",
   "mimetype": "text/x-python",
   "name": "python",
   "nbconvert_exporter": "python",
   "pygments_lexer": "ipython3",
   "version": "3.7.3"
  }
 },
 "nbformat": 4,
 "nbformat_minor": 2
}
