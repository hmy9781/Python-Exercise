{
 "cells": [
  {
   "cell_type": "code",
   "execution_count": 6,
   "metadata": {},
   "outputs": [
    {
     "name": "stdout",
     "output_type": "stream",
     "text": [
      "140613311286984\n",
      "[1]\n",
      "140613311286984\n",
      "[1, 1]\n",
      "140613311286984\n",
      "[1, 1, 1]\n"
     ]
    }
   ],
   "source": [
    "#the element is id(value) in list, dict\n",
    "#la = lb  #rename, copy id(lb)\n",
    "#la = lb[::] or la = lb.copy() #copy id(ele)\n",
    "#la = copy.deepcopy(lb)  #even when lb has list element, it doesn't change when lb's list element changes\n",
    "\n",
    "#list parameter can't be default\n",
    "def f1(ls=[]):\n",
    "    ls.append(1)\n",
    "    print(id(ls))\n",
    "    return ls\n",
    "\n",
    "print(f1())\n",
    "print(f1())\n",
    "print(f1())"
   ]
  },
  {
   "cell_type": "code",
   "execution_count": 8,
   "metadata": {},
   "outputs": [
    {
     "name": "stdout",
     "output_type": "stream",
     "text": [
      "[[1, 0, 0, 0, 0], [1, 0, 0, 0, 0], [1, 0, 0, 0, 0]]\n",
      "[[1, 0, 0, 0, 0], [0, 0, 0, 0, 0], [0, 0, 0, 0, 0]]\n"
     ]
    }
   ],
   "source": [
    "#解析语法： exp for i in iterable if condition; exp for i in iterable for j in iterable\n",
    "#条件语法： n if condition else -n\n",
    "#list\n",
    "la = [[0]*5]*3\n",
    "la[0][0] = 1  #la[i][0]=1\n",
    "print(la)\n",
    "lb = [[0]*5 for i in range(3)]\n",
    "lb[0][0] = 1\n",
    "print(lb)\n"
   ]
  },
  {
   "cell_type": "code",
   "execution_count": 11,
   "metadata": {},
   "outputs": [
    {
     "name": "stdout",
     "output_type": "stream",
     "text": [
      "{0: 5, 1: 6, 2: 7, 3: 8, 4: 9}\n",
      "[0, 0, 0, 0, 0, 5, 6, 7, 8, 9, 10, 12, 14, 16, 18, 15, 18, 21, 24, 27, 20, 24, 28, 32, 36]\n"
     ]
    }
   ],
   "source": [
    "#dict\n",
    "num1 = [0, 1, 2, 3, 4]\n",
    "num2 = [5, 6, 7, 8, 9]\n",
    "dict1 = {k: v for k, v in zip(num1, num2)}\n",
    "list1 = [i*j for i in num1 for j in num2]\n",
    "print(dict1)\n",
    "print(list1)"
   ]
  },
  {
   "cell_type": "code",
   "execution_count": 13,
   "metadata": {},
   "outputs": [
    {
     "name": "stdout",
     "output_type": "stream",
     "text": [
      "[2, 3, 5, 7, 11, 13, 17, 19, 23, 29, 31, 37, 41, 43, 47, 53, 59, 61, 67, 71, 73, 79, 83, 89, 97]\n"
     ]
    }
   ],
   "source": [
    "#列表推导\n",
    "#get a list of primes less than 100\n",
    "def isprime(n):\n",
    "    #if n is prime, return True\n",
    "    if n==1:\n",
    "        return False\n",
    "    if n==2:\n",
    "        return True\n",
    "    for k in range(2, n+1):\n",
    "        if n%k==0:\n",
    "            return False\n",
    "        if k*k>n:\n",
    "            return True\n",
    "        \n",
    "\n",
    "prime_list = [n for n in range(100) if isprime(n)]\n",
    "print(prime_list)"
   ]
  },
  {
   "cell_type": "code",
   "execution_count": 14,
   "metadata": {},
   "outputs": [
    {
     "name": "stdout",
     "output_type": "stream",
     "text": [
      "[1, 4, 27, 4]\n"
     ]
    }
   ],
   "source": [
    "#z[i] = pow(x[i], y[i])\n",
    "x = [1, 2, 3, 4]\n",
    "y = [0, 2 ,3, 1]\n",
    "z = [pow(i, j) for i, j in zip(x, y)]\n",
    "print(z)"
   ]
  },
  {
   "cell_type": "code",
   "execution_count": 15,
   "metadata": {},
   "outputs": [
    {
     "name": "stdout",
     "output_type": "stream",
     "text": [
      "12\n"
     ]
    }
   ],
   "source": [
    "#条件语法： n if condition else -n\n",
    "#z = max(x, y)\n",
    "x = 10\n",
    "y = 12\n",
    "z = x if x>y else y\n",
    "print(z)"
   ]
  },
  {
   "cell_type": "code",
   "execution_count": 21,
   "metadata": {},
   "outputs": [
    {
     "name": "stdout",
     "output_type": "stream",
     "text": [
      "2  3  5  7  11  13  17  19  23  29  31  37  41  43  47  53  59  61  67  71  73  79  83  89  97  "
     ]
    }
   ],
   "source": [
    "#Generator: operate with generating,less time&space \n",
    "#Usage:(exp for),yeild in func\n",
    "#get a list of primes less than 100\n",
    "def isprime_generator(n):\n",
    "    for i in range(1,n+1):\n",
    "        if isprime(i):\n",
    "            yield i\n",
    "\n",
    "            \n",
    "primes = isprime_generator(100)\n",
    "for prime in primes:\n",
    "    print(prime, end=\"  \")\n",
    "\n",
    "\n",
    "#Iterable: list, string, dict, etc  #可迭代对象\n",
    "#Iterator: iter(Iterable), next() #from collections import Iterator\n",
    "#zip(), enumerate() belongs to Iterator\n",
    "#range is not Iterator, 不可耗尽\n",
    "#Generator belongs to Iterator\n"
   ]
  },
  {
   "cell_type": "code",
   "execution_count": 34,
   "metadata": {},
   "outputs": [
    {
     "name": "stdout",
     "output_type": "stream",
     "text": [
      "run\n",
      "Happpy Middle Autumn Festival!\n"
     ]
    },
    {
     "data": {
      "text/plain": [
       "7.6000000000000005"
      ]
     },
     "execution_count": 34,
     "metadata": {},
     "output_type": "execute_result"
    }
   ],
   "source": [
    "#装饰器\n",
    "from functools import wraps\n",
    "items = {\"water\": 1.5, \"egg\": 1, \"meat\": 15}\n",
    "\n",
    "    \n",
    "    \n",
    "#Middle Autumn Festival\n",
    "#80 percent\n",
    "#print festival greeting\n",
    "def outer(func):\n",
    "    print(\"run\")\n",
    "    @wraps(func)  #make func.__name__ stay the same #module: functools \n",
    "    #wraps should be next to inner definiton\n",
    "    def inner(item_name, count):\n",
    "        orig_money = func(item_name, count)\n",
    "        print(\"Happpy Middle Autumn Festival!\")\n",
    "        return orig_money*0.8\n",
    "    return inner\n",
    "\n",
    "@outer  #charge = outer(charge)\n",
    "def charge(item_name, count):\n",
    "    #count< 6, 100 percent\n",
    "    #count>=6 & count< 11, 95 percent\n",
    "    #count >=11, 90 percent\n",
    "    orig_money = items[item_name]*count\n",
    "    if count<6:\n",
    "        return orig_money\n",
    "    elif count<11:\n",
    "        return orig_money*0.95\n",
    "    else:\n",
    "        return orig_money*0.9\n",
    "    \n",
    "charge(\"egg\",10)\n",
    "#print(6*0.95*0.8)"
   ]
  },
  {
   "cell_type": "code",
   "execution_count": 44,
   "metadata": {},
   "outputs": [
    {
     "name": "stdout",
     "output_type": "stream",
     "text": [
      "Times of winning the car when choosing A: 332\n",
      "Times of winning the car when choosing C: 672\n"
     ]
    }
   ],
   "source": [
    "#Three-door problem\n",
    "#one car, two goats behind doors\n",
    "#first choos one door A\n",
    "#remove the wrong one B from the rest two doors\n",
    "#the person should change to door C or not\n",
    "\n",
    "import random\n",
    "\n",
    "doors = [1, 0, 0]  #1:car, 0:goat\n",
    "\n",
    "def three_doors(change_choice):\n",
    "    #random.randint(a,b):v in [a,b]\n",
    "    #random.randrange(a,b,step): v in[a,b)\n",
    "    door_a = random.randrange(3) #choose index\n",
    "    door_c = -1\n",
    "    #print(door_a)\n",
    "    for i in range(3):\n",
    "        if i!=door_a:\n",
    "            if doors[i]==0:\n",
    "                #if not door_a and has a goat behind it->door_b\n",
    "                door_b = i\n",
    "                #print(door_b)\n",
    "            else:\n",
    "                #if not door_a or door_b\n",
    "                door_c = i #door_c should be assigned before for block\n",
    "                #print(door_c)\n",
    "    if change_choice:\n",
    "        #the person change door_a to door_c\n",
    "        return door_c\n",
    "    else:\n",
    "        #choice as before\n",
    "        return door_a\n",
    "    \n",
    "def main():\n",
    "    #operate Three_doors games 1000 times for change_choice==True and change_choice==False separately\n",
    "    sum_a = 0\n",
    "    sum_c = 0\n",
    "       \n",
    "    #for not change->choose door_a \n",
    "    for i in range(1000):\n",
    "        result = three_doors(False)\n",
    "        if result == 0:\n",
    "            #index=0->choose the correct door\n",
    "            sum_a += 1\n",
    "            \n",
    "    #for change->choose door_c\n",
    "    for i in range(1000):\n",
    "        result = three_doors(True)\n",
    "        if result == 0:\n",
    "            #choose the correct door\n",
    "            sum_c += 1\n",
    "    print(\"Times of winning the car when choosing A: {}\".format(sum_a))\n",
    "    print(\"Times of winning the car when choosing C: {}\".format(sum_c))\n",
    "    \n",
    "if __name__ ==\"__main__\":\n",
    "    main()"
   ]
  },
  {
   "cell_type": "code",
   "execution_count": 67,
   "metadata": {},
   "outputs": [
    {
     "name": "stdout",
     "output_type": "stream",
     "text": [
      "1\n",
      "not empty\n"
     ]
    }
   ],
   "source": [
    "ls = [1]\n",
    "if ls:\n",
    "    print(ls.pop(0))#pop() returns element deleted\n",
    "    print(\"not empty\")\n",
    "else:\n",
    "    print(\"empty\")\n",
    "#only if ls, \"if !ls\" is invalid"
   ]
  },
  {
   "cell_type": "code",
   "execution_count": 77,
   "metadata": {},
   "outputs": [
    {
     "name": "stdout",
     "output_type": "stream",
     "text": [
      "(2+(2*(2+9)))\n",
      "(((7+9)*2)-8)\n",
      "(((7*7)-1)/2)\n",
      "(((10*10)-4)/4)\n",
      "(9+((9*10)/6))\n",
      "(5*(5-(1/5)))\n",
      "(5*(5-(2/10)))\n",
      "no ans\n",
      "no ans\n",
      "no ans\n",
      "Time spent: 0.015111737000552239\n"
     ]
    }
   ],
   "source": [
    "#24-point game\n",
    "#count time\n",
    "import itertools\n",
    "import time\n",
    "\n",
    "numbers = [[2, 2, 2, 9],\n",
    "          [7, 9, 2, 8],\n",
    "          [7, 7, 1, 2],\n",
    "          [10, 10, 4, 4],\n",
    "          [9, 9, 10, 6],\n",
    "          [5, 5, 1, 5],\n",
    "          [5, 5, 2, 10],\n",
    "          [4, 1, 5, 6],\n",
    "          [7, 3, 3, 7],\n",
    "          [8, 3, 8, 3]\n",
    "          \n",
    "          ]\n",
    "arithmetics = [\"+\", \"-\", \"*\", \"/\"]\n",
    "iter_list_operators = itertools.product(arithmetics, repeat=3)\n",
    "priority_one = [0, 1, 2]  #if choose i, then num[i] op num[i+1]\n",
    "priority_two = [0, 1] # three numbers remained\n",
    "iter_list_priority = itertools.product(priority_one, priority_two, [0])\n",
    "#Iterators可耗尽，不加list会有问题\n",
    "list_operators = list(iter_list_operators)\n",
    "list_priority = list(iter_list_priority)\n",
    "\n",
    "\n",
    "def calculate(a, b, op):\n",
    "    if op == \"+\":\n",
    "        return a+b\n",
    "    elif op == \"-\":\n",
    "        return a-b\n",
    "    elif op == \"*\":\n",
    "        return a*b\n",
    "    else:\n",
    "        if b==0:\n",
    "            #zeroDivision\n",
    "            return None\n",
    "        return round(a/b, 2) #float accuracy problem\n",
    "    \n",
    "    \n",
    "def get_string(ops, priority, number):\n",
    "    #tansfer to expression string\n",
    "    for i in range(3):\n",
    "        index_num1 = priority[i]\n",
    "        num1 = number.pop(index_num1)\n",
    "        num2 = number.pop(index_num1)\n",
    "        op = ops.pop(index_num1)\n",
    "        temp_str = \"(\"+str(num1)+op+str(num2)+\")\"\n",
    "        #update the remaining number\n",
    "        #insert the temp result\n",
    "        number.insert(index_num1, temp_str)        \n",
    "        #print( temp_str)\n",
    "    return number[0]\n",
    "    \n",
    "\n",
    "def twenty_four(number):\n",
    "    #Given a number, using arithmetics and brackets to get 24\n",
    "    \n",
    "    for operators in list_operators:\n",
    "        #print(operators)\n",
    "        for priority in list_priority:\n",
    "            nums = number.copy()\n",
    "            ops = list(operators)\n",
    "            zero_division = False\n",
    "            for i in range(3):\n",
    "                index_num1 = priority[i]\n",
    "                num1 = nums.pop(index_num1)\n",
    "                num2 = nums.pop(index_num1)# 前面元素已删，index-1\n",
    "                op = ops.pop(index_num1) #update the remaining ops\n",
    "                #num2 = nums[index_num1+1]\n",
    "                temp = calculate(num1, num2, op)\n",
    "                if temp== None:\n",
    "                    zero_division = True\n",
    "                    break\n",
    "                #update the remaining numbers \n",
    "                nums.insert(index_num1, temp)                \n",
    "                #print(nums)\n",
    "            if not zero_division and nums[0]==24:\n",
    "                ans_str = get_string(list(operators), priority, number.copy())\n",
    "                #print(operators)\n",
    "                #print(priority)\n",
    "                #print(ans_str)\n",
    "                return ans_str\n",
    "            \n",
    "    else:\n",
    "        return \"no ans\"\n",
    "                \n",
    "\n",
    "def main():\n",
    "    #twenty_four([4,6,2,1])\n",
    "    #funcs to get time: time.localtime(), time.gmtime()->UTC\n",
    "    #func to get string of localtime: time.ctime()\n",
    "    #output time according to fomat: time.strftime(\"%Y %m %d %A %H %M %S\",lc_time or utc_time)\n",
    "    time_start = time.perf_counter()  #time.process_counter()->not including sleep, time.time()->long time ago, less accurate\n",
    "    for number in numbers:\n",
    "        print(twenty_four(number))\n",
    "    \n",
    "    time_end = time.perf_counter()\n",
    "    print(\"Time spent: {}\".format(time_end-time_start))\n",
    "    \n",
    "if __name__ == \"__main__\":\n",
    "    main()"
   ]
  },
  {
   "cell_type": "code",
   "execution_count": null,
   "metadata": {},
   "outputs": [],
   "source": []
  }
 ],
 "metadata": {
  "kernelspec": {
   "display_name": "Python 3",
   "language": "python",
   "name": "python3"
  },
  "language_info": {
   "codemirror_mode": {
    "name": "ipython",
    "version": 3
   },
   "file_extension": ".py",
   "mimetype": "text/x-python",
   "name": "python",
   "nbconvert_exporter": "python",
   "pygments_lexer": "ipython3",
   "version": "3.7.3"
  }
 },
 "nbformat": 4,
 "nbformat_minor": 2
}
