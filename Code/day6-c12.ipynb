{
 "cells": [
  {
   "cell_type": "code",
   "execution_count": 3,
   "metadata": {},
   "outputs": [
    {
     "name": "stdout",
     "output_type": "stream",
     "text": [
      "        Chinese  Math  English  Physics  Chemistry  Computer\n",
      "030201       71    98       85       82         89        71\n",
      "030202       77    77       75       80         77        89\n",
      "030203       80    90       87       92         70        78\n",
      "030204       85    80       87       78         94        74\n",
      "030205       74    97       88       99         82        86\n",
      "030206       82    88       73       75         75        70\n",
      "030207       99    78       85       83         93        74\n",
      "030208       98    94       76       91         71        83\n",
      "030209       70    76       76       73         93        92\n",
      "030210       74    93       71       86         95        81\n",
      "030211       87    84       88       94         92        92\n",
      "030212       91    83       76       84         99        86\n",
      "030213       85    84       93       73         70        71\n",
      "030214       74    89       80       99         89        87\n",
      "030215       74    81       78       71         84        74\n",
      "030216       82    93       92       90         99        93\n",
      "030217       94    96       81       95         98        91\n",
      "030218       90    85       73       75         88        78\n",
      "030219       90    77       93       84         83        95\n",
      "030220       84    88       85       89         97        80\n",
      "030221       86    76       99       75         94        70\n",
      "030222       90    74       83       95         79        79\n",
      "030223       84    94       87       80         75        74\n",
      "030224       76    73       93       85         98        81\n",
      "030225       80    83       90       81         81        85\n",
      "030226       97    71       92       88         81        98\n",
      "030227       96    71       71       89         79        74\n",
      "030228       77    96       90       88         91        78\n",
      "030229       84    94       88       70         71        73\n",
      "030230       82    91       74       75         96        84\n"
     ]
    }
   ],
   "source": [
    "import numpy as np\n",
    "import pandas as pd\n",
    "#pd based on np\n",
    "#np advantage: faster on calculating;\n",
    "#pd advantage: labels, groupby, pivot_table\n",
    "\n",
    "#build DataFrame: dict of Series, list of dicts, np_array\n",
    "#build scores(70-100) to store grades of 030201-030230\n",
    "#index: student number(30), column: subjects(6)\n",
    "index = [ \"0302\"+str(i//10)+str(i%10) for i in range(1, 31) ]\n",
    "columns = [\"Chinese\", \"Math\", \"English\", \"Physics\", \"Chemistry\", \"Computer\"]\n",
    "scores = pd.DataFrame(np.random.randint(70,100,(30,6)), index=index, columns=columns)\n",
    "print(scores)\n"
   ]
  },
  {
   "cell_type": "code",
   "execution_count": 5,
   "metadata": {},
   "outputs": [
    {
     "name": "stdout",
     "output_type": "stream",
     "text": [
      "[[71 98 85 82 89 71]\n",
      " [77 77 75 80 77 89]\n",
      " [80 90 87 92 70 78]\n",
      " [85 80 87 78 94 74]\n",
      " [74 97 88 99 82 86]\n",
      " [82 88 73 75 75 70]\n",
      " [99 78 85 83 93 74]\n",
      " [98 94 76 91 71 83]\n",
      " [70 76 76 73 93 92]\n",
      " [74 93 71 86 95 81]\n",
      " [87 84 88 94 92 92]\n",
      " [91 83 76 84 99 86]\n",
      " [85 84 93 73 70 71]\n",
      " [74 89 80 99 89 87]\n",
      " [74 81 78 71 84 74]\n",
      " [82 93 92 90 99 93]\n",
      " [94 96 81 95 98 91]\n",
      " [90 85 73 75 88 78]\n",
      " [90 77 93 84 83 95]\n",
      " [84 88 85 89 97 80]\n",
      " [86 76 99 75 94 70]\n",
      " [90 74 83 95 79 79]\n",
      " [84 94 87 80 75 74]\n",
      " [76 73 93 85 98 81]\n",
      " [80 83 90 81 81 85]\n",
      " [97 71 92 88 81 98]\n",
      " [96 71 71 89 79 74]\n",
      " [77 96 90 88 91 78]\n",
      " [84 94 88 70 71 73]\n",
      " [82 91 74 75 96 84]]\n",
      "index:  Index(['030201', '030202', '030203', '030204', '030205', '030206', '030207',\n",
      "       '030208', '030209', '030210', '030211', '030212', '030213', '030214',\n",
      "       '030215', '030216', '030217', '030218', '030219', '030220', '030221',\n",
      "       '030222', '030223', '030224', '030225', '030226', '030227', '030228',\n",
      "       '030229', '030230'],\n",
      "      dtype='object')\n",
      "columns Index(['Chinese', 'Math', 'English', 'Physics', 'Chemistry', 'Computer'], dtype='object')\n",
      "shape: (30, 6), size: 180\n",
      "Chinese      int64\n",
      "Math         int64\n",
      "English      int64\n",
      "Physics      int64\n",
      "Chemistry    int64\n",
      "Computer     int64\n",
      "dtype: object\n"
     ]
    }
   ],
   "source": [
    "#visit it attributes: values, index, columns, shape, size, dtypes\n",
    "print(scores.values)\n",
    "print(\"index: \", scores.index)\n",
    "print(\"columns\", scores.columns)\n",
    "print(\"shape: {}, size: {}\".format(scores.shape, scores.size))\n",
    "print(scores.dtypes)\n",
    "#"
   ]
  },
  {
   "cell_type": "code",
   "execution_count": 6,
   "metadata": {},
   "outputs": [
    {
     "name": "stdout",
     "output_type": "stream",
     "text": [
      "030201    98\n",
      "030202    77\n",
      "030203    90\n",
      "030204    80\n",
      "030205    97\n",
      "030206    88\n",
      "030207    78\n",
      "030208    94\n",
      "030209    76\n",
      "030210    93\n",
      "030211    84\n",
      "030212    83\n",
      "030213    84\n",
      "030214    89\n",
      "030215    81\n",
      "030216    93\n",
      "030217    96\n",
      "030218    85\n",
      "030219    77\n",
      "030220    88\n",
      "030221    76\n",
      "030222    74\n",
      "030223    94\n",
      "030224    73\n",
      "030225    83\n",
      "030226    71\n",
      "030227    71\n",
      "030228    96\n",
      "030229    94\n",
      "030230    91\n",
      "Name: Math, dtype: int64\n",
      "Chinese      74\n",
      "Math         97\n",
      "English      88\n",
      "Physics      99\n",
      "Chemistry    82\n",
      "Computer     86\n",
      "Name: 030205, dtype: int64\n"
     ]
    }
   ],
   "source": [
    "#get all grades of math\n",
    "#列索引\n",
    "print(scores[\"Math\"])\n",
    "#get all grades of 030205\n",
    "#行索引\n",
    "print(scores.loc[\"030205\"])"
   ]
  },
  {
   "cell_type": "code",
   "execution_count": 10,
   "metadata": {},
   "outputs": [
    {
     "name": "stdout",
     "output_type": "stream",
     "text": [
      "        Chinese  Math  English  Physics  Chemistry  Computer  Sum\n",
      "030201       71    98       85       82         89        71  496\n",
      "030202       77    77       75       80         77        89  475\n",
      "030203       80    90       87       92         70        78  497\n",
      "030204       85    80       87       78         94        74  498\n",
      "030205       74    97       88       99         82        86  526\n"
     ]
    }
   ],
   "source": [
    "##add a new column to record the sum of scores from all subjects\n",
    "\"\"\"\n",
    "#for large data, faster\n",
    "#@temp variable\n",
    "#inplace=True : make changes to itself\n",
    "sums = scores.sum(axis=1)\n",
    "scores.eval(\"Sum = @sums\", inplace=True)\n",
    "\"\"\"\n",
    "scores[\"Sum\"] = 0 #clear the results calculated before\n",
    "scores[\"Sum\"] = scores.sum(axis=1)\n",
    "print(scores.head())"
   ]
  },
  {
   "cell_type": "code",
   "execution_count": 16,
   "metadata": {},
   "outputs": [
    {
     "name": "stdout",
     "output_type": "stream",
     "text": [
      "        Chinese  Math  English  Physics  Chemistry  Computer  Sum\n",
      "030201       71    98       85       82         89        71  496\n",
      "030202       77    77       75       80         77        89  475\n",
      "030203       80    90       87       92         70        78  497\n",
      "030204       85    80       87       78         94        74  498\n",
      "030205       74    97       88       99         82        86  526\n",
      "        Chinese  Math  English  Physics  Chemistry  Computer  Sum\n",
      "030217       94    96       81       95         98        91  555\n",
      "030216       82    93       92       90         99        93  549\n",
      "030211       87    84       88       94         92        92  537\n",
      "030226       97    71       92       88         81        98  527\n",
      "030205       74    97       88       99         82        86  526\n",
      "030220       84    88       85       89         97        80  523\n",
      "030219       90    77       93       84         83        95  522\n",
      "030228       77    96       90       88         91        78  520\n",
      "030212       91    83       76       84         99        86  519\n",
      "030214       74    89       80       99         89        87  518\n"
     ]
    }
   ],
   "source": [
    "#get a copy of scores sorted by descending Sum\n",
    "#output top10\n",
    "#pd.sort_values(), pd.sort_index() make no change to the df itself\n",
    "\"\"\"\n",
    "scores_sorted = scores.sort_index( ascending= False )\n",
    "print(scores)\n",
    "\"\"\"\n",
    "scores_sorted = scores.sort_values( by=\"Sum\", ascending= False )\n",
    "print(scores.head())\n",
    "print(scores_sorted.head(10))"
   ]
  },
  {
   "cell_type": "code",
   "execution_count": 18,
   "metadata": {},
   "outputs": [
    {
     "name": "stdout",
     "output_type": "stream",
     "text": [
      "['male', 'female', 'female', 'male', 'male', 'male', 'female', 'female', 'female', 'male', 'female', 'male', 'male', 'male', 'male', 'female', 'female', 'female', 'female', 'male', 'male', 'male', 'female', 'male', 'female', 'male', 'female', 'female', 'male', 'male']\n",
      "        gender\n",
      "030201    male\n",
      "030202  female\n",
      "030203  female\n",
      "030204    male\n",
      "030205    male\n",
      "030206    male\n",
      "030207  female\n",
      "030208  female\n",
      "030209  female\n",
      "030210    male\n",
      "030211  female\n",
      "030212    male\n",
      "030213    male\n",
      "030214    male\n",
      "030215    male\n",
      "030216  female\n",
      "030217  female\n",
      "030218  female\n",
      "030219  female\n",
      "030220    male\n",
      "030221    male\n",
      "030222    male\n",
      "030223  female\n",
      "030224    male\n",
      "030225  female\n",
      "030226    male\n",
      "030227  female\n",
      "030228  female\n",
      "030229    male\n",
      "030230    male\n"
     ]
    }
   ],
   "source": [
    "#bulid a dataframe to store the gender of all students\n",
    "#index: student number, columns: gender\n",
    "import random\n",
    "genders_value = [ \"female\" if random.random()<0.5 else \"male\" for i in range(30) ]\n",
    "print(genders_value)\n",
    "genders = pd.DataFrame( genders_value, index=index, columns= [\"gender\"] )\n",
    "print(genders)"
   ]
  },
  {
   "cell_type": "code",
   "execution_count": 22,
   "metadata": {},
   "outputs": [
    {
     "name": "stdout",
     "output_type": "stream",
     "text": [
      "        Chinese  Math  English  Physics  Chemistry  Computer  Sum  gender\n",
      "030217       94    96       81       95         98        91  555  female\n",
      "030216       82    93       92       90         99        93  549  female\n",
      "030211       87    84       88       94         92        92  537  female\n",
      "030226       97    71       92       88         81        98  527    male\n",
      "030205       74    97       88       99         82        86  526    male\n",
      "030220       84    88       85       89         97        80  523    male\n",
      "030219       90    77       93       84         83        95  522  female\n",
      "030228       77    96       90       88         91        78  520  female\n",
      "030212       91    83       76       84         99        86  519    male\n",
      "030214       74    89       80       99         89        87  518    male\n",
      "030208       98    94       76       91         71        83  513  female\n",
      "030207       99    78       85       83         93        74  512  female\n",
      "030224       76    73       93       85         98        81  506    male\n",
      "030230       82    91       74       75         96        84  502    male\n",
      "030210       74    93       71       86         95        81  500    male\n",
      "030221       86    76       99       75         94        70  500    male\n",
      "030222       90    74       83       95         79        79  500    male\n",
      "030225       80    83       90       81         81        85  500  female\n",
      "030204       85    80       87       78         94        74  498    male\n",
      "030203       80    90       87       92         70        78  497  female\n",
      "030201       71    98       85       82         89        71  496    male\n",
      "030223       84    94       87       80         75        74  494  female\n",
      "030218       90    85       73       75         88        78  489  female\n",
      "030209       70    76       76       73         93        92  480  female\n",
      "030227       96    71       71       89         79        74  480  female\n",
      "030229       84    94       88       70         71        73  480    male\n",
      "030213       85    84       93       73         70        71  476    male\n",
      "030202       77    77       75       80         77        89  475  female\n",
      "030206       82    88       73       75         75        70  463    male\n",
      "030215       74    81       78       71         84        74  462    male\n"
     ]
    }
   ],
   "source": [
    "#merge scores_sorted and genders\n",
    "#merge()可以对齐索引，默认对齐columns，将left_index, right_index设为True可对齐index\n",
    "#how=\"outer\"\n",
    "students = pd.merge(scores_sorted, genders, left_index= True, right_index=True)\n",
    "print(students)"
   ]
  },
  {
   "cell_type": "code",
   "execution_count": 23,
   "metadata": {},
   "outputs": [
    {
     "name": "stdout",
     "output_type": "stream",
     "text": [
      "<class 'pandas.core.frame.DataFrame'>\n",
      "Index: 30 entries, 030217 to 030215\n",
      "Data columns (total 8 columns):\n",
      "Chinese      30 non-null int64\n",
      "Math         30 non-null int64\n",
      "English      30 non-null int64\n",
      "Physics      30 non-null int64\n",
      "Chemistry    30 non-null int64\n",
      "Computer     30 non-null int64\n",
      "Sum          30 non-null int64\n",
      "gender       30 non-null object\n",
      "dtypes: int64(7), object(1)\n",
      "memory usage: 2.1+ KB\n"
     ]
    },
    {
     "data": {
      "text/html": [
       "<div>\n",
       "<style scoped>\n",
       "    .dataframe tbody tr th:only-of-type {\n",
       "        vertical-align: middle;\n",
       "    }\n",
       "\n",
       "    .dataframe tbody tr th {\n",
       "        vertical-align: top;\n",
       "    }\n",
       "\n",
       "    .dataframe thead th {\n",
       "        text-align: right;\n",
       "    }\n",
       "</style>\n",
       "<table border=\"1\" class=\"dataframe\">\n",
       "  <thead>\n",
       "    <tr style=\"text-align: right;\">\n",
       "      <th></th>\n",
       "      <th>Chinese</th>\n",
       "      <th>Math</th>\n",
       "      <th>English</th>\n",
       "      <th>Physics</th>\n",
       "      <th>Chemistry</th>\n",
       "      <th>Computer</th>\n",
       "      <th>Sum</th>\n",
       "    </tr>\n",
       "  </thead>\n",
       "  <tbody>\n",
       "    <tr>\n",
       "      <th>count</th>\n",
       "      <td>30.000000</td>\n",
       "      <td>30.000000</td>\n",
       "      <td>30.000000</td>\n",
       "      <td>30.000000</td>\n",
       "      <td>30.00000</td>\n",
       "      <td>30.000000</td>\n",
       "      <td>30.000000</td>\n",
       "    </tr>\n",
       "    <tr>\n",
       "      <th>mean</th>\n",
       "      <td>83.766667</td>\n",
       "      <td>85.133333</td>\n",
       "      <td>83.633333</td>\n",
       "      <td>83.966667</td>\n",
       "      <td>86.10000</td>\n",
       "      <td>81.366667</td>\n",
       "      <td>503.966667</td>\n",
       "    </tr>\n",
       "    <tr>\n",
       "      <th>std</th>\n",
       "      <td>8.253247</td>\n",
       "      <td>8.443456</td>\n",
       "      <td>7.783640</td>\n",
       "      <td>8.389169</td>\n",
       "      <td>9.64669</td>\n",
       "      <td>8.155740</td>\n",
       "      <td>23.177699</td>\n",
       "    </tr>\n",
       "    <tr>\n",
       "      <th>min</th>\n",
       "      <td>70.000000</td>\n",
       "      <td>71.000000</td>\n",
       "      <td>71.000000</td>\n",
       "      <td>70.000000</td>\n",
       "      <td>70.00000</td>\n",
       "      <td>70.000000</td>\n",
       "      <td>462.000000</td>\n",
       "    </tr>\n",
       "    <tr>\n",
       "      <th>25%</th>\n",
       "      <td>77.000000</td>\n",
       "      <td>77.250000</td>\n",
       "      <td>76.000000</td>\n",
       "      <td>75.750000</td>\n",
       "      <td>79.00000</td>\n",
       "      <td>74.000000</td>\n",
       "      <td>490.250000</td>\n",
       "    </tr>\n",
       "    <tr>\n",
       "      <th>50%</th>\n",
       "      <td>84.000000</td>\n",
       "      <td>84.500000</td>\n",
       "      <td>85.000000</td>\n",
       "      <td>84.000000</td>\n",
       "      <td>88.50000</td>\n",
       "      <td>80.500000</td>\n",
       "      <td>500.000000</td>\n",
       "    </tr>\n",
       "    <tr>\n",
       "      <th>75%</th>\n",
       "      <td>90.000000</td>\n",
       "      <td>93.000000</td>\n",
       "      <td>89.500000</td>\n",
       "      <td>89.750000</td>\n",
       "      <td>94.00000</td>\n",
       "      <td>86.750000</td>\n",
       "      <td>519.750000</td>\n",
       "    </tr>\n",
       "    <tr>\n",
       "      <th>max</th>\n",
       "      <td>99.000000</td>\n",
       "      <td>98.000000</td>\n",
       "      <td>99.000000</td>\n",
       "      <td>99.000000</td>\n",
       "      <td>99.00000</td>\n",
       "      <td>98.000000</td>\n",
       "      <td>555.000000</td>\n",
       "    </tr>\n",
       "  </tbody>\n",
       "</table>\n",
       "</div>"
      ],
      "text/plain": [
       "         Chinese       Math    English    Physics  Chemistry   Computer  \\\n",
       "count  30.000000  30.000000  30.000000  30.000000   30.00000  30.000000   \n",
       "mean   83.766667  85.133333  83.633333  83.966667   86.10000  81.366667   \n",
       "std     8.253247   8.443456   7.783640   8.389169    9.64669   8.155740   \n",
       "min    70.000000  71.000000  71.000000  70.000000   70.00000  70.000000   \n",
       "25%    77.000000  77.250000  76.000000  75.750000   79.00000  74.000000   \n",
       "50%    84.000000  84.500000  85.000000  84.000000   88.50000  80.500000   \n",
       "75%    90.000000  93.000000  89.500000  89.750000   94.00000  86.750000   \n",
       "max    99.000000  98.000000  99.000000  99.000000   99.00000  98.000000   \n",
       "\n",
       "              Sum  \n",
       "count   30.000000  \n",
       "mean   503.966667  \n",
       "std     23.177699  \n",
       "min    462.000000  \n",
       "25%    490.250000  \n",
       "50%    500.000000  \n",
       "75%    519.750000  \n",
       "max    555.000000  "
      ]
     },
     "execution_count": 23,
     "metadata": {},
     "output_type": "execute_result"
    }
   ],
   "source": [
    "#nan info\n",
    "students.info()\n",
    "#analytics\n",
    "students.describe()"
   ]
  },
  {
   "cell_type": "code",
   "execution_count": 29,
   "metadata": {},
   "outputs": [
    {
     "name": "stdout",
     "output_type": "stream",
     "text": [
      "                Chinese     Math  English  Physics Chemistry Computer      Sum\n",
      "average_scores  83.7667  85.1333  83.6333  83.9667      86.1  81.3667  503.967\n",
      "top1_scores          99       98       99       99        99       98      555\n",
      "top1_sno         030207   030201   030221   030205    030212   030226   030217\n",
      "   Chinese  Math  English  Physics  Chemistry  Computer    Sum\n",
      "0     74.0  94.0     76.0     75.0         70      74.0  500.0\n",
      "1      NaN   NaN     85.0      NaN         71       NaN    NaN\n",
      "2      NaN   NaN     87.0      NaN         75       NaN    NaN\n",
      "3      NaN   NaN     88.0      NaN         79       NaN    NaN\n",
      "4      NaN   NaN     93.0      NaN         81       NaN    NaN\n",
      "5      NaN   NaN      NaN      NaN         89       NaN    NaN\n",
      "6      NaN   NaN      NaN      NaN         93       NaN    NaN\n",
      "7      NaN   NaN      NaN      NaN         94       NaN    NaN\n",
      "8      NaN   NaN      NaN      NaN         98       NaN    NaN\n",
      "9      NaN   NaN      NaN      NaN         99       NaN    NaN\n"
     ]
    }
   ],
   "source": [
    "#apply(my_describe)\n",
    "def my_describe(x):\n",
    "    #for each column which is subject\n",
    "    #均分，最高分，第一名，分数众数\n",
    "    return pd.Series([x.mean(), x.max(), x.idxmax()],\\\n",
    "                     index=[\"average_scores\", \"top1_scores\", \"top1_sno\"])\n",
    "print(scores.apply(my_describe))\n",
    "print(scores.mode())\n",
    "#print(scores)"
   ]
  },
  {
   "cell_type": "code",
   "execution_count": 30,
   "metadata": {},
   "outputs": [
    {
     "name": "stdout",
     "output_type": "stream",
     "text": [
      "        Chinese       Math    English    Physics  Chemistry  Computer  \\\n",
      "gender                                                                  \n",
      "female  86.0000  85.285714  83.142857  85.357143    85.0000   84.0000   \n",
      "male    81.8125  85.000000  84.062500  82.750000    87.0625   79.0625   \n",
      "\n",
      "               Sum  \n",
      "gender              \n",
      "female  508.785714  \n",
      "male    499.750000  \n"
     ]
    }
   ],
   "source": [
    "#classify students into groups by gender\n",
    "#compare average scores of male and female\n",
    "\n",
    "#1.groupby\n",
    "print(students.groupby(\"gender\").mean()) #groupby(\"gender\").aggregate(\"mean\", \"max\",\"idxmax\")\n"
   ]
  },
  {
   "cell_type": "code",
   "execution_count": 32,
   "metadata": {},
   "outputs": [
    {
     "data": {
      "text/html": [
       "<div>\n",
       "<style scoped>\n",
       "    .dataframe tbody tr th:only-of-type {\n",
       "        vertical-align: middle;\n",
       "    }\n",
       "\n",
       "    .dataframe tbody tr th {\n",
       "        vertical-align: top;\n",
       "    }\n",
       "\n",
       "    .dataframe thead th {\n",
       "        text-align: right;\n",
       "    }\n",
       "</style>\n",
       "<table border=\"1\" class=\"dataframe\">\n",
       "  <thead>\n",
       "    <tr style=\"text-align: right;\">\n",
       "      <th></th>\n",
       "      <th>Chemistry</th>\n",
       "      <th>Chinese</th>\n",
       "      <th>Computer</th>\n",
       "      <th>English</th>\n",
       "      <th>Math</th>\n",
       "      <th>Physics</th>\n",
       "    </tr>\n",
       "    <tr>\n",
       "      <th>gender</th>\n",
       "      <th></th>\n",
       "      <th></th>\n",
       "      <th></th>\n",
       "      <th></th>\n",
       "      <th></th>\n",
       "      <th></th>\n",
       "    </tr>\n",
       "  </thead>\n",
       "  <tbody>\n",
       "    <tr>\n",
       "      <th>female</th>\n",
       "      <td>85.0000</td>\n",
       "      <td>86.0000</td>\n",
       "      <td>84.0000</td>\n",
       "      <td>83.142857</td>\n",
       "      <td>85.285714</td>\n",
       "      <td>85.357143</td>\n",
       "    </tr>\n",
       "    <tr>\n",
       "      <th>male</th>\n",
       "      <td>87.0625</td>\n",
       "      <td>81.8125</td>\n",
       "      <td>79.0625</td>\n",
       "      <td>84.062500</td>\n",
       "      <td>85.000000</td>\n",
       "      <td>82.750000</td>\n",
       "    </tr>\n",
       "  </tbody>\n",
       "</table>\n",
       "</div>"
      ],
      "text/plain": [
       "        Chemistry  Chinese  Computer    English       Math    Physics\n",
       "gender                                                               \n",
       "female    85.0000  86.0000   84.0000  83.142857  85.285714  85.357143\n",
       "male      87.0625  81.8125   79.0625  84.062500  85.000000  82.750000"
      ]
     },
     "execution_count": 32,
     "metadata": {},
     "output_type": "execute_result"
    }
   ],
   "source": [
    "#2.pivot_table\n",
    "students.pivot_table(columns,index=\"gender\", aggfunc=\"mean\")"
   ]
  },
  {
   "cell_type": "code",
   "execution_count": 40,
   "metadata": {},
   "outputs": [
    {
     "name": "stdout",
     "output_type": "stream",
     "text": [
      "   survived  pclass     sex   age  sibsp  parch     fare embarked  class  \\\n",
      "0         0       3    male  22.0      1      0   7.2500        S  Third   \n",
      "1         1       1  female  38.0      1      0  71.2833        C  First   \n",
      "2         1       3  female  26.0      0      0   7.9250        S  Third   \n",
      "3         1       1  female  35.0      1      0  53.1000        S  First   \n",
      "4         0       3    male  35.0      0      0   8.0500        S  Third   \n",
      "5         0       3    male   NaN      0      0   8.4583        Q  Third   \n",
      "\n",
      "     who  adult_male deck  embark_town alive  alone  \n",
      "0    man        True  NaN  Southampton    no  False  \n",
      "1  woman       False    C    Cherbourg   yes  False  \n",
      "2  woman       False  NaN  Southampton   yes   True  \n",
      "3  woman       False    C  Southampton   yes  False  \n",
      "4    man        True  NaN  Southampton    no   True  \n",
      "5    man        True  NaN   Queenstown    no   True  \n"
     ]
    }
   ],
   "source": [
    "#download titanic dataset\n",
    "import seaborn as sns\n",
    "titanic = sns.load_dataset(\"titanic\")\n",
    "print(titanic.head(6))"
   ]
  },
  {
   "cell_type": "code",
   "execution_count": 44,
   "metadata": {},
   "outputs": [
    {
     "name": "stdout",
     "output_type": "stream",
     "text": [
      "0     True\n",
      "1     True\n",
      "2     True\n",
      "3     True\n",
      "4     True\n",
      "5    False\n",
      "Name: age, dtype: bool\n"
     ]
    },
    {
     "data": {
      "text/html": [
       "<div>\n",
       "<style scoped>\n",
       "    .dataframe tbody tr th:only-of-type {\n",
       "        vertical-align: middle;\n",
       "    }\n",
       "\n",
       "    .dataframe tbody tr th {\n",
       "        vertical-align: top;\n",
       "    }\n",
       "\n",
       "    .dataframe thead th {\n",
       "        text-align: right;\n",
       "    }\n",
       "</style>\n",
       "<table border=\"1\" class=\"dataframe\">\n",
       "  <thead>\n",
       "    <tr style=\"text-align: right;\">\n",
       "      <th></th>\n",
       "      <th>survived</th>\n",
       "      <th>pclass</th>\n",
       "      <th>sex</th>\n",
       "      <th>age</th>\n",
       "      <th>sibsp</th>\n",
       "      <th>parch</th>\n",
       "      <th>fare</th>\n",
       "      <th>embarked</th>\n",
       "      <th>class</th>\n",
       "      <th>who</th>\n",
       "      <th>adult_male</th>\n",
       "      <th>deck</th>\n",
       "      <th>embark_town</th>\n",
       "      <th>alive</th>\n",
       "      <th>alone</th>\n",
       "    </tr>\n",
       "  </thead>\n",
       "  <tbody>\n",
       "    <tr>\n",
       "      <th>0</th>\n",
       "      <td>0</td>\n",
       "      <td>3</td>\n",
       "      <td>male</td>\n",
       "      <td>22.0</td>\n",
       "      <td>1</td>\n",
       "      <td>0</td>\n",
       "      <td>7.2500</td>\n",
       "      <td>S</td>\n",
       "      <td>Third</td>\n",
       "      <td>man</td>\n",
       "      <td>True</td>\n",
       "      <td>NaN</td>\n",
       "      <td>Southampton</td>\n",
       "      <td>no</td>\n",
       "      <td>False</td>\n",
       "    </tr>\n",
       "    <tr>\n",
       "      <th>1</th>\n",
       "      <td>1</td>\n",
       "      <td>1</td>\n",
       "      <td>female</td>\n",
       "      <td>38.0</td>\n",
       "      <td>1</td>\n",
       "      <td>0</td>\n",
       "      <td>71.2833</td>\n",
       "      <td>C</td>\n",
       "      <td>First</td>\n",
       "      <td>woman</td>\n",
       "      <td>False</td>\n",
       "      <td>C</td>\n",
       "      <td>Cherbourg</td>\n",
       "      <td>yes</td>\n",
       "      <td>False</td>\n",
       "    </tr>\n",
       "    <tr>\n",
       "      <th>2</th>\n",
       "      <td>1</td>\n",
       "      <td>3</td>\n",
       "      <td>female</td>\n",
       "      <td>26.0</td>\n",
       "      <td>0</td>\n",
       "      <td>0</td>\n",
       "      <td>7.9250</td>\n",
       "      <td>S</td>\n",
       "      <td>Third</td>\n",
       "      <td>woman</td>\n",
       "      <td>False</td>\n",
       "      <td>NaN</td>\n",
       "      <td>Southampton</td>\n",
       "      <td>yes</td>\n",
       "      <td>True</td>\n",
       "    </tr>\n",
       "    <tr>\n",
       "      <th>3</th>\n",
       "      <td>1</td>\n",
       "      <td>1</td>\n",
       "      <td>female</td>\n",
       "      <td>35.0</td>\n",
       "      <td>1</td>\n",
       "      <td>0</td>\n",
       "      <td>53.1000</td>\n",
       "      <td>S</td>\n",
       "      <td>First</td>\n",
       "      <td>woman</td>\n",
       "      <td>False</td>\n",
       "      <td>C</td>\n",
       "      <td>Southampton</td>\n",
       "      <td>yes</td>\n",
       "      <td>False</td>\n",
       "    </tr>\n",
       "    <tr>\n",
       "      <th>4</th>\n",
       "      <td>0</td>\n",
       "      <td>3</td>\n",
       "      <td>male</td>\n",
       "      <td>35.0</td>\n",
       "      <td>0</td>\n",
       "      <td>0</td>\n",
       "      <td>8.0500</td>\n",
       "      <td>S</td>\n",
       "      <td>Third</td>\n",
       "      <td>man</td>\n",
       "      <td>True</td>\n",
       "      <td>NaN</td>\n",
       "      <td>Southampton</td>\n",
       "      <td>no</td>\n",
       "      <td>True</td>\n",
       "    </tr>\n",
       "    <tr>\n",
       "      <th>6</th>\n",
       "      <td>0</td>\n",
       "      <td>1</td>\n",
       "      <td>male</td>\n",
       "      <td>54.0</td>\n",
       "      <td>0</td>\n",
       "      <td>0</td>\n",
       "      <td>51.8625</td>\n",
       "      <td>S</td>\n",
       "      <td>First</td>\n",
       "      <td>man</td>\n",
       "      <td>True</td>\n",
       "      <td>E</td>\n",
       "      <td>Southampton</td>\n",
       "      <td>no</td>\n",
       "      <td>True</td>\n",
       "    </tr>\n",
       "  </tbody>\n",
       "</table>\n",
       "</div>"
      ],
      "text/plain": [
       "   survived  pclass     sex   age  sibsp  parch     fare embarked  class  \\\n",
       "0         0       3    male  22.0      1      0   7.2500        S  Third   \n",
       "1         1       1  female  38.0      1      0  71.2833        C  First   \n",
       "2         1       3  female  26.0      0      0   7.9250        S  Third   \n",
       "3         1       1  female  35.0      1      0  53.1000        S  First   \n",
       "4         0       3    male  35.0      0      0   8.0500        S  Third   \n",
       "6         0       1    male  54.0      0      0  51.8625        S  First   \n",
       "\n",
       "     who  adult_male deck  embark_town alive  alone  \n",
       "0    man        True  NaN  Southampton    no  False  \n",
       "1  woman       False    C    Cherbourg   yes  False  \n",
       "2  woman       False  NaN  Southampton   yes   True  \n",
       "3  woman       False    C  Southampton   yes  False  \n",
       "4    man        True  NaN  Southampton    no   True  \n",
       "6    man        True    E  Southampton    no   True  "
      ]
     },
     "execution_count": 44,
     "metadata": {},
     "output_type": "execute_result"
    }
   ],
   "source": [
    "#drop all records whose age is nan\n",
    "#isnull()\n",
    "#notnull()\n",
    "print(titanic[\"age\"].notnull().head(6))\n",
    "titanic_copy = titanic[titanic[\"age\"].notnull()] #bool index\n",
    "titanic_copy.head(6)\n"
   ]
  },
  {
   "cell_type": "code",
   "execution_count": 53,
   "metadata": {},
   "outputs": [
    {
     "name": "stdout",
     "output_type": "stream",
     "text": [
      "0    20s\n",
      "1    30s\n",
      "2    20s\n",
      "3    30s\n",
      "4    30s\n",
      "Name: age, dtype: object\n"
     ]
    }
   ],
   "source": [
    "#build Age from titanic_copy.age\n",
    "#age->0s,10s....\n",
    "Age =  (titanic_copy.age//10*10).astype(int)\n",
    "Age = Age.astype(str) + \"s\" #Series.astype(dtype) change the original dtype to dtype\n",
    "print(Age.head())"
   ]
  },
  {
   "cell_type": "code",
   "execution_count": 63,
   "metadata": {},
   "outputs": [
    {
     "data": {
      "text/plain": [
       "sex     age\n",
       "female  0s     0.633333\n",
       "        10s    0.755556\n",
       "        20s    0.722222\n",
       "        30s    0.833333\n",
       "        40s    0.687500\n",
       "        50s    0.888889\n",
       "        60s    1.000000\n",
       "male    0s     0.593750\n",
       "        10s    0.122807\n",
       "        20s    0.168919\n",
       "        30s    0.214953\n",
       "        40s    0.210526\n",
       "        50s    0.133333\n",
       "        60s    0.133333\n",
       "        70s    0.000000\n",
       "        80s    1.000000\n",
       "Name: survived, dtype: float64"
      ]
     },
     "execution_count": 63,
     "metadata": {},
     "output_type": "execute_result"
    }
   ],
   "source": [
    "#classify into groups by sex and Age and get survived.mean()\n",
    "#1.groupby\n",
    "#[\"survived\"]->Series\n",
    "titanic_copy.groupby([\"sex\", Age])[\"survived\"].mean()"
   ]
  },
  {
   "cell_type": "code",
   "execution_count": 62,
   "metadata": {},
   "outputs": [
    {
     "data": {
      "text/html": [
       "<div>\n",
       "<style scoped>\n",
       "    .dataframe tbody tr th:only-of-type {\n",
       "        vertical-align: middle;\n",
       "    }\n",
       "\n",
       "    .dataframe tbody tr th {\n",
       "        vertical-align: top;\n",
       "    }\n",
       "\n",
       "    .dataframe thead th {\n",
       "        text-align: right;\n",
       "    }\n",
       "</style>\n",
       "<table border=\"1\" class=\"dataframe\">\n",
       "  <thead>\n",
       "    <tr style=\"text-align: right;\">\n",
       "      <th>age</th>\n",
       "      <th>0s</th>\n",
       "      <th>10s</th>\n",
       "      <th>20s</th>\n",
       "      <th>30s</th>\n",
       "      <th>40s</th>\n",
       "      <th>50s</th>\n",
       "      <th>60s</th>\n",
       "      <th>70s</th>\n",
       "      <th>80s</th>\n",
       "    </tr>\n",
       "    <tr>\n",
       "      <th>sex</th>\n",
       "      <th></th>\n",
       "      <th></th>\n",
       "      <th></th>\n",
       "      <th></th>\n",
       "      <th></th>\n",
       "      <th></th>\n",
       "      <th></th>\n",
       "      <th></th>\n",
       "      <th></th>\n",
       "    </tr>\n",
       "  </thead>\n",
       "  <tbody>\n",
       "    <tr>\n",
       "      <th>female</th>\n",
       "      <td>0.633333</td>\n",
       "      <td>0.755556</td>\n",
       "      <td>0.722222</td>\n",
       "      <td>0.833333</td>\n",
       "      <td>0.687500</td>\n",
       "      <td>0.888889</td>\n",
       "      <td>1.000000</td>\n",
       "      <td>NaN</td>\n",
       "      <td>NaN</td>\n",
       "    </tr>\n",
       "    <tr>\n",
       "      <th>male</th>\n",
       "      <td>0.593750</td>\n",
       "      <td>0.122807</td>\n",
       "      <td>0.168919</td>\n",
       "      <td>0.214953</td>\n",
       "      <td>0.210526</td>\n",
       "      <td>0.133333</td>\n",
       "      <td>0.133333</td>\n",
       "      <td>0.0</td>\n",
       "      <td>1.0</td>\n",
       "    </tr>\n",
       "  </tbody>\n",
       "</table>\n",
       "</div>"
      ],
      "text/plain": [
       "age           0s       10s       20s       30s       40s       50s       60s  \\\n",
       "sex                                                                            \n",
       "female  0.633333  0.755556  0.722222  0.833333  0.687500  0.888889  1.000000   \n",
       "male    0.593750  0.122807  0.168919  0.214953  0.210526  0.133333  0.133333   \n",
       "\n",
       "age     70s  80s  \n",
       "sex               \n",
       "female  NaN  NaN  \n",
       "male    0.0  1.0  "
      ]
     },
     "execution_count": 62,
     "metadata": {},
     "output_type": "execute_result"
    }
   ],
   "source": [
    "#[\"survived\"]->Series, unstack()\n",
    "titanic_copy.groupby([\"sex\", Age])[\"survived\"].mean().unstack()"
   ]
  },
  {
   "cell_type": "code",
   "execution_count": 66,
   "metadata": {},
   "outputs": [
    {
     "data": {
      "text/html": [
       "<div>\n",
       "<style scoped>\n",
       "    .dataframe tbody tr th:only-of-type {\n",
       "        vertical-align: middle;\n",
       "    }\n",
       "\n",
       "    .dataframe tbody tr th {\n",
       "        vertical-align: top;\n",
       "    }\n",
       "\n",
       "    .dataframe thead th {\n",
       "        text-align: right;\n",
       "    }\n",
       "</style>\n",
       "<table border=\"1\" class=\"dataframe\">\n",
       "  <thead>\n",
       "    <tr style=\"text-align: right;\">\n",
       "      <th></th>\n",
       "      <th></th>\n",
       "      <th>survived</th>\n",
       "    </tr>\n",
       "    <tr>\n",
       "      <th>sex</th>\n",
       "      <th>age</th>\n",
       "      <th></th>\n",
       "    </tr>\n",
       "  </thead>\n",
       "  <tbody>\n",
       "    <tr>\n",
       "      <th rowspan=\"7\" valign=\"top\">female</th>\n",
       "      <th>0s</th>\n",
       "      <td>0.633333</td>\n",
       "    </tr>\n",
       "    <tr>\n",
       "      <th>10s</th>\n",
       "      <td>0.755556</td>\n",
       "    </tr>\n",
       "    <tr>\n",
       "      <th>20s</th>\n",
       "      <td>0.722222</td>\n",
       "    </tr>\n",
       "    <tr>\n",
       "      <th>30s</th>\n",
       "      <td>0.833333</td>\n",
       "    </tr>\n",
       "    <tr>\n",
       "      <th>40s</th>\n",
       "      <td>0.687500</td>\n",
       "    </tr>\n",
       "    <tr>\n",
       "      <th>50s</th>\n",
       "      <td>0.888889</td>\n",
       "    </tr>\n",
       "    <tr>\n",
       "      <th>60s</th>\n",
       "      <td>1.000000</td>\n",
       "    </tr>\n",
       "    <tr>\n",
       "      <th rowspan=\"9\" valign=\"top\">male</th>\n",
       "      <th>0s</th>\n",
       "      <td>0.593750</td>\n",
       "    </tr>\n",
       "    <tr>\n",
       "      <th>10s</th>\n",
       "      <td>0.122807</td>\n",
       "    </tr>\n",
       "    <tr>\n",
       "      <th>20s</th>\n",
       "      <td>0.168919</td>\n",
       "    </tr>\n",
       "    <tr>\n",
       "      <th>30s</th>\n",
       "      <td>0.214953</td>\n",
       "    </tr>\n",
       "    <tr>\n",
       "      <th>40s</th>\n",
       "      <td>0.210526</td>\n",
       "    </tr>\n",
       "    <tr>\n",
       "      <th>50s</th>\n",
       "      <td>0.133333</td>\n",
       "    </tr>\n",
       "    <tr>\n",
       "      <th>60s</th>\n",
       "      <td>0.133333</td>\n",
       "    </tr>\n",
       "    <tr>\n",
       "      <th>70s</th>\n",
       "      <td>0.000000</td>\n",
       "    </tr>\n",
       "    <tr>\n",
       "      <th>80s</th>\n",
       "      <td>1.000000</td>\n",
       "    </tr>\n",
       "  </tbody>\n",
       "</table>\n",
       "</div>"
      ],
      "text/plain": [
       "            survived\n",
       "sex    age          \n",
       "female 0s   0.633333\n",
       "       10s  0.755556\n",
       "       20s  0.722222\n",
       "       30s  0.833333\n",
       "       40s  0.687500\n",
       "       50s  0.888889\n",
       "       60s  1.000000\n",
       "male   0s   0.593750\n",
       "       10s  0.122807\n",
       "       20s  0.168919\n",
       "       30s  0.214953\n",
       "       40s  0.210526\n",
       "       50s  0.133333\n",
       "       60s  0.133333\n",
       "       70s  0.000000\n",
       "       80s  1.000000"
      ]
     },
     "execution_count": 66,
     "metadata": {},
     "output_type": "execute_result"
    }
   ],
   "source": [
    "#[[\"survived\"]]->DataFrame\n",
    "titanic_copy.groupby([\"sex\", Age])[[\"survived\"]].mean()"
   ]
  },
  {
   "cell_type": "code",
   "execution_count": 68,
   "metadata": {},
   "outputs": [
    {
     "data": {
      "text/html": [
       "<div>\n",
       "<style scoped>\n",
       "    .dataframe tbody tr th:only-of-type {\n",
       "        vertical-align: middle;\n",
       "    }\n",
       "\n",
       "    .dataframe tbody tr th {\n",
       "        vertical-align: top;\n",
       "    }\n",
       "\n",
       "    .dataframe thead tr th {\n",
       "        text-align: left;\n",
       "    }\n",
       "\n",
       "    .dataframe thead tr:last-of-type th {\n",
       "        text-align: right;\n",
       "    }\n",
       "</style>\n",
       "<table border=\"1\" class=\"dataframe\">\n",
       "  <thead>\n",
       "    <tr>\n",
       "      <th></th>\n",
       "      <th colspan=\"9\" halign=\"left\">survived</th>\n",
       "    </tr>\n",
       "    <tr>\n",
       "      <th>age</th>\n",
       "      <th>0s</th>\n",
       "      <th>10s</th>\n",
       "      <th>20s</th>\n",
       "      <th>30s</th>\n",
       "      <th>40s</th>\n",
       "      <th>50s</th>\n",
       "      <th>60s</th>\n",
       "      <th>70s</th>\n",
       "      <th>80s</th>\n",
       "    </tr>\n",
       "    <tr>\n",
       "      <th>sex</th>\n",
       "      <th></th>\n",
       "      <th></th>\n",
       "      <th></th>\n",
       "      <th></th>\n",
       "      <th></th>\n",
       "      <th></th>\n",
       "      <th></th>\n",
       "      <th></th>\n",
       "      <th></th>\n",
       "    </tr>\n",
       "  </thead>\n",
       "  <tbody>\n",
       "    <tr>\n",
       "      <th>female</th>\n",
       "      <td>0.633333</td>\n",
       "      <td>0.755556</td>\n",
       "      <td>0.722222</td>\n",
       "      <td>0.833333</td>\n",
       "      <td>0.687500</td>\n",
       "      <td>0.888889</td>\n",
       "      <td>1.000000</td>\n",
       "      <td>NaN</td>\n",
       "      <td>NaN</td>\n",
       "    </tr>\n",
       "    <tr>\n",
       "      <th>male</th>\n",
       "      <td>0.593750</td>\n",
       "      <td>0.122807</td>\n",
       "      <td>0.168919</td>\n",
       "      <td>0.214953</td>\n",
       "      <td>0.210526</td>\n",
       "      <td>0.133333</td>\n",
       "      <td>0.133333</td>\n",
       "      <td>0.0</td>\n",
       "      <td>1.0</td>\n",
       "    </tr>\n",
       "  </tbody>\n",
       "</table>\n",
       "</div>"
      ],
      "text/plain": [
       "        survived                                                              \\\n",
       "age           0s       10s       20s       30s       40s       50s       60s   \n",
       "sex                                                                            \n",
       "female  0.633333  0.755556  0.722222  0.833333  0.687500  0.888889  1.000000   \n",
       "male    0.593750  0.122807  0.168919  0.214953  0.210526  0.133333  0.133333   \n",
       "\n",
       "                  \n",
       "age     70s  80s  \n",
       "sex               \n",
       "female  NaN  NaN  \n",
       "male    0.0  1.0  "
      ]
     },
     "execution_count": 68,
     "metadata": {},
     "output_type": "execute_result"
    }
   ],
   "source": [
    "#[[\"survived\"]]->DataFrame, unsatck()\n",
    "titanic_copy.groupby([\"sex\", Age])[[\"survived\"]].mean().unstack()"
   ]
  },
  {
   "cell_type": "code",
   "execution_count": 72,
   "metadata": {},
   "outputs": [
    {
     "data": {
      "text/html": [
       "<div>\n",
       "<style scoped>\n",
       "    .dataframe tbody tr th:only-of-type {\n",
       "        vertical-align: middle;\n",
       "    }\n",
       "\n",
       "    .dataframe tbody tr th {\n",
       "        vertical-align: top;\n",
       "    }\n",
       "\n",
       "    .dataframe thead th {\n",
       "        text-align: right;\n",
       "    }\n",
       "</style>\n",
       "<table border=\"1\" class=\"dataframe\">\n",
       "  <thead>\n",
       "    <tr style=\"text-align: right;\">\n",
       "      <th>age</th>\n",
       "      <th>0s</th>\n",
       "      <th>10s</th>\n",
       "      <th>20s</th>\n",
       "      <th>30s</th>\n",
       "      <th>40s</th>\n",
       "      <th>50s</th>\n",
       "      <th>60s</th>\n",
       "      <th>70s</th>\n",
       "      <th>80s</th>\n",
       "    </tr>\n",
       "    <tr>\n",
       "      <th>sex</th>\n",
       "      <th></th>\n",
       "      <th></th>\n",
       "      <th></th>\n",
       "      <th></th>\n",
       "      <th></th>\n",
       "      <th></th>\n",
       "      <th></th>\n",
       "      <th></th>\n",
       "      <th></th>\n",
       "    </tr>\n",
       "  </thead>\n",
       "  <tbody>\n",
       "    <tr>\n",
       "      <th>female</th>\n",
       "      <td>0.633333</td>\n",
       "      <td>0.755556</td>\n",
       "      <td>0.722222</td>\n",
       "      <td>0.833333</td>\n",
       "      <td>0.687500</td>\n",
       "      <td>0.888889</td>\n",
       "      <td>1.000000</td>\n",
       "      <td>NaN</td>\n",
       "      <td>NaN</td>\n",
       "    </tr>\n",
       "    <tr>\n",
       "      <th>male</th>\n",
       "      <td>0.593750</td>\n",
       "      <td>0.122807</td>\n",
       "      <td>0.168919</td>\n",
       "      <td>0.214953</td>\n",
       "      <td>0.210526</td>\n",
       "      <td>0.133333</td>\n",
       "      <td>0.133333</td>\n",
       "      <td>0.0</td>\n",
       "      <td>1.0</td>\n",
       "    </tr>\n",
       "  </tbody>\n",
       "</table>\n",
       "</div>"
      ],
      "text/plain": [
       "age           0s       10s       20s       30s       40s       50s       60s  \\\n",
       "sex                                                                            \n",
       "female  0.633333  0.755556  0.722222  0.833333  0.687500  0.888889  1.000000   \n",
       "male    0.593750  0.122807  0.168919  0.214953  0.210526  0.133333  0.133333   \n",
       "\n",
       "age     70s  80s  \n",
       "sex               \n",
       "female  NaN  NaN  \n",
       "male    0.0  1.0  "
      ]
     },
     "execution_count": 72,
     "metadata": {},
     "output_type": "execute_result"
    }
   ],
   "source": [
    "#2.pivot_table\n",
    "view = titanic_copy.pivot_table(\"survived\", index=\"sex\", columns=Age, aggfunc=\"mean\")"
   ]
  },
  {
   "cell_type": "code",
   "execution_count": 73,
   "metadata": {},
   "outputs": [
    {
     "ename": "NameError",
     "evalue": "name 'view' is not defined",
     "output_type": "error",
     "traceback": [
      "\u001b[0;31m---------------------------------------------------------------------------\u001b[0m",
      "\u001b[0;31mNameError\u001b[0m                                 Traceback (most recent call last)",
      "\u001b[0;32m<ipython-input-73-992a7e6c0ab3>\u001b[0m in \u001b[0;36m<module>\u001b[0;34m\u001b[0m\n\u001b[0;32m----> 1\u001b[0;31m \u001b[0mview\u001b[0m\u001b[0;34m.\u001b[0m\u001b[0mdropna\u001b[0m\u001b[0;34m(\u001b[0m\u001b[0maxis\u001b[0m\u001b[0;34m=\u001b[0m \u001b[0;34m\"columns\"\u001b[0m\u001b[0;34m)\u001b[0m\u001b[0;34m\u001b[0m\u001b[0;34m\u001b[0m\u001b[0m\n\u001b[0m\u001b[1;32m      2\u001b[0m \u001b[0mprint\u001b[0m\u001b[0;34m(\u001b[0m\u001b[0mview\u001b[0m\u001b[0;34m)\u001b[0m\u001b[0;34m\u001b[0m\u001b[0;34m\u001b[0m\u001b[0m\n",
      "\u001b[0;31mNameError\u001b[0m: name 'view' is not defined"
     ]
    }
   ],
   "source": [
    "view.dropna(axis= \"columns\")\n",
    "print(view)"
   ]
  },
  {
   "cell_type": "code",
   "execution_count": 78,
   "metadata": {},
   "outputs": [
    {
     "name": "stdout",
     "output_type": "stream",
     "text": [
      "   day1  day2\n",
      "0     0     1\n",
      "1     1     2\n",
      "2     2     3\n"
     ]
    }
   ],
   "source": [
    "test_df = pd.DataFrame({\"day1\": np.arange(3), \"day2\": np.arange(1,4)})\n",
    "print(test_df)"
   ]
  },
  {
   "cell_type": "code",
   "execution_count": 81,
   "metadata": {},
   "outputs": [
    {
     "name": "stdout",
     "output_type": "stream",
     "text": [
      "   day2\n",
      "0     1\n",
      "1     2\n",
      "2     3\n"
     ]
    }
   ],
   "source": [
    "print(test_df[[\"day2\"]])"
   ]
  },
  {
   "cell_type": "code",
   "execution_count": 82,
   "metadata": {},
   "outputs": [
    {
     "name": "stdout",
     "output_type": "stream",
     "text": [
      "day1    3\n",
      "day2    6\n",
      "dtype: int64\n"
     ]
    }
   ],
   "source": [
    "print(np.sum(test_df))"
   ]
  },
  {
   "cell_type": "code",
   "execution_count": 83,
   "metadata": {},
   "outputs": [
    {
     "name": "stdout",
     "output_type": "stream",
     "text": [
      "<class 'pandas.core.series.Series'>\n"
     ]
    }
   ],
   "source": [
    "print(type(np.sum(test_df)))"
   ]
  },
  {
   "cell_type": "code",
   "execution_count": 85,
   "metadata": {},
   "outputs": [
    {
     "name": "stdout",
     "output_type": "stream",
     "text": [
      "[3 6]\n"
     ]
    }
   ],
   "source": [
    "print(np.sum(test_df).values)"
   ]
  },
  {
   "cell_type": "code",
   "execution_count": 87,
   "metadata": {},
   "outputs": [
    {
     "data": {
      "text/plain": [
       "[<matplotlib.lines.Line2D at 0x7f8f09c79b38>]"
      ]
     },
     "execution_count": 87,
     "metadata": {},
     "output_type": "execute_result"
    },
    {
     "data": {
      "image/png": "[encoded data removed]",
      "text/plain": [
       "<Figure size 432x288 with 1 Axes>"
      ]
     },
     "metadata": {
      "needs_background": "light"
     },
     "output_type": "display_data"
    }
   ],
   "source": [
    "import matplotlib.pyplot as plt\n",
    "%matplotlib inline\n",
    "plt.plot(np.arange(1,5)) #index->x, value->y"
   ]
  },
  {
   "cell_type": "code",
   "execution_count": 88,
   "metadata": {},
   "outputs": [
    {
     "data": {
      "text/html": [
       "<div>\n",
       "<style scoped>\n",
       "    .dataframe tbody tr th:only-of-type {\n",
       "        vertical-align: middle;\n",
       "    }\n",
       "\n",
       "    .dataframe tbody tr th {\n",
       "        vertical-align: top;\n",
       "    }\n",
       "\n",
       "    .dataframe thead th {\n",
       "        text-align: right;\n",
       "    }\n",
       "</style>\n",
       "<table border=\"1\" class=\"dataframe\">\n",
       "  <thead>\n",
       "    <tr style=\"text-align: right;\">\n",
       "      <th></th>\n",
       "      <th>day1</th>\n",
       "      <th>day2</th>\n",
       "    </tr>\n",
       "  </thead>\n",
       "  <tbody>\n",
       "    <tr>\n",
       "      <th>0</th>\n",
       "      <td>False</td>\n",
       "      <td>True</td>\n",
       "    </tr>\n",
       "    <tr>\n",
       "      <th>1</th>\n",
       "      <td>True</td>\n",
       "      <td>True</td>\n",
       "    </tr>\n",
       "    <tr>\n",
       "      <th>2</th>\n",
       "      <td>True</td>\n",
       "      <td>True</td>\n",
       "    </tr>\n",
       "  </tbody>\n",
       "</table>\n",
       "</div>"
      ],
      "text/plain": [
       "    day1  day2\n",
       "0  False  True\n",
       "1   True  True\n",
       "2   True  True"
      ]
     },
     "execution_count": 88,
     "metadata": {},
     "output_type": "execute_result"
    }
   ],
   "source": [
    "test_df>0"
   ]
  },
  {
   "cell_type": "code",
   "execution_count": 89,
   "metadata": {},
   "outputs": [
    {
     "data": {
      "text/html": [
       "<div>\n",
       "<style scoped>\n",
       "    .dataframe tbody tr th:only-of-type {\n",
       "        vertical-align: middle;\n",
       "    }\n",
       "\n",
       "    .dataframe tbody tr th {\n",
       "        vertical-align: top;\n",
       "    }\n",
       "\n",
       "    .dataframe thead th {\n",
       "        text-align: right;\n",
       "    }\n",
       "</style>\n",
       "<table border=\"1\" class=\"dataframe\">\n",
       "  <thead>\n",
       "    <tr style=\"text-align: right;\">\n",
       "      <th></th>\n",
       "      <th>day1</th>\n",
       "      <th>day2</th>\n",
       "    </tr>\n",
       "  </thead>\n",
       "  <tbody>\n",
       "    <tr>\n",
       "      <th>0</th>\n",
       "      <td>NaN</td>\n",
       "      <td>1</td>\n",
       "    </tr>\n",
       "    <tr>\n",
       "      <th>1</th>\n",
       "      <td>1.0</td>\n",
       "      <td>2</td>\n",
       "    </tr>\n",
       "    <tr>\n",
       "      <th>2</th>\n",
       "      <td>2.0</td>\n",
       "      <td>3</td>\n",
       "    </tr>\n",
       "  </tbody>\n",
       "</table>\n",
       "</div>"
      ],
      "text/plain": [
       "   day1  day2\n",
       "0   NaN     1\n",
       "1   1.0     2\n",
       "2   2.0     3"
      ]
     },
     "execution_count": 89,
     "metadata": {},
     "output_type": "execute_result"
    }
   ],
   "source": [
    "test_df[test_df>0]"
   ]
  },
  {
   "cell_type": "code",
   "execution_count": 90,
   "metadata": {},
   "outputs": [
    {
     "data": {
      "text/plain": [
       "array([[nan,  1.],\n",
       "       [ 1.,  2.],\n",
       "       [ 2.,  3.]])"
      ]
     },
     "execution_count": 90,
     "metadata": {},
     "output_type": "execute_result"
    }
   ],
   "source": [
    "test_df[test_df>0].values"
   ]
  },
  {
   "cell_type": "code",
   "execution_count": 91,
   "metadata": {},
   "outputs": [
    {
     "name": "stdout",
     "output_type": "stream",
     "text": [
      "day1    False\n",
      "day2     True\n",
      "dtype: bool\n",
      "day2    6\n",
      "dtype: int64\n"
     ]
    }
   ],
   "source": [
    "day_df = np.sum(test_df)\n",
    "print(day_df>5)\n",
    "print(day_df[day_df>5])"
   ]
  },
  {
   "cell_type": "code",
   "execution_count": 92,
   "metadata": {},
   "outputs": [
    {
     "name": "stdout",
     "output_type": "stream",
     "text": [
      "[6]\n"
     ]
    }
   ],
   "source": [
    "print(day_df[day_df>5].values)"
   ]
  },
  {
   "cell_type": "code",
   "execution_count": null,
   "metadata": {},
   "outputs": [],
   "source": []
  }
 ],
 "metadata": {
  "kernelspec": {
   "display_name": "Python 3",
   "language": "python",
   "name": "python3"
  },
  "language_info": {
   "codemirror_mode": {
    "name": "ipython",
    "version": 3
   },
   "file_extension": ".py",
   "mimetype": "text/x-python",
   "name": "python",
   "nbconvert_exporter": "python",
   "pygments_lexer": "ipython3",
   "version": "3.7.3"
  }
 },
 "nbformat": 4,
 "nbformat_minor": 2
}
